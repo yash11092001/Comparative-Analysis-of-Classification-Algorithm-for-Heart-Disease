{
 "cells": [
  {
   "cell_type": "code",
   "execution_count": 3,
   "id": "4acce82f",
   "metadata": {},
   "outputs": [],
   "source": [
    "import pandas as pd\n",
    "from sklearn.metrics import accuracy_score, precision_score, recall_score, f1_score\n",
    "from sklearn.model_selection import train_test_split\n",
    "import matplotlib.pyplot as plt"
   ]
  },
  {
   "cell_type": "code",
   "execution_count": 4,
   "id": "5cbbb650",
   "metadata": {},
   "outputs": [],
   "source": [
    "dataset1 = pd.read_csv('dataset.csv')\n",
    "dataset2 = pd.read_csv('heart (1).csv')\n",
    "dataset3 = pd.read_csv('heart_data.csv')\n",
    "dataset4 = pd.read_csv('heart (2).csv')\n"
   ]
  },
  {
   "cell_type": "markdown",
   "id": "183dfa8d",
   "metadata": {},
   "source": [
    "# dataset1"
   ]
  },
  {
   "cell_type": "code",
   "execution_count": 5,
   "id": "8561547d",
   "metadata": {},
   "outputs": [
    {
     "data": {
      "text/plain": [
       "4242"
      ]
     },
     "execution_count": 5,
     "metadata": {},
     "output_type": "execute_result"
    }
   ],
   "source": [
    "dataset1.size"
   ]
  },
  {
   "cell_type": "code",
   "execution_count": 6,
   "id": "06e1e8cd",
   "metadata": {},
   "outputs": [
    {
     "name": "stdout",
     "output_type": "stream",
     "text": [
      "<class 'pandas.core.frame.DataFrame'>\n",
      "RangeIndex: 303 entries, 0 to 302\n",
      "Data columns (total 14 columns):\n",
      " #   Column    Non-Null Count  Dtype  \n",
      "---  ------    --------------  -----  \n",
      " 0   age       303 non-null    int64  \n",
      " 1   sex       303 non-null    int64  \n",
      " 2   cp        303 non-null    int64  \n",
      " 3   trestbps  303 non-null    int64  \n",
      " 4   chol      303 non-null    int64  \n",
      " 5   fbs       303 non-null    int64  \n",
      " 6   restecg   303 non-null    int64  \n",
      " 7   thalach   303 non-null    int64  \n",
      " 8   exang     303 non-null    int64  \n",
      " 9   oldpeak   303 non-null    float64\n",
      " 10  slope     303 non-null    int64  \n",
      " 11  ca        303 non-null    int64  \n",
      " 12  thal      303 non-null    int64  \n",
      " 13  target    303 non-null    int64  \n",
      "dtypes: float64(1), int64(13)\n",
      "memory usage: 33.3 KB\n"
     ]
    }
   ],
   "source": [
    "dataset1.info()"
   ]
  },
  {
   "cell_type": "code",
   "execution_count": 9,
   "id": "025998e1",
   "metadata": {},
   "outputs": [
    {
     "data": {
      "text/plain": [
       "(303, 14)"
      ]
     },
     "execution_count": 9,
     "metadata": {},
     "output_type": "execute_result"
    }
   ],
   "source": [
    "dataset1.shape"
   ]
  },
  {
   "cell_type": "code",
   "execution_count": 5,
   "id": "ebd009df",
   "metadata": {},
   "outputs": [
    {
     "data": {
      "text/plain": [
       "age         0\n",
       "sex         0\n",
       "cp          0\n",
       "trestbps    0\n",
       "chol        0\n",
       "fbs         0\n",
       "restecg     0\n",
       "thalach     0\n",
       "exang       0\n",
       "oldpeak     0\n",
       "slope       0\n",
       "ca          0\n",
       "thal        0\n",
       "target      0\n",
       "dtype: int64"
      ]
     },
     "execution_count": 5,
     "metadata": {},
     "output_type": "execute_result"
    }
   ],
   "source": [
    "dataset1.isnull().sum()"
   ]
  },
  {
   "cell_type": "code",
   "execution_count": 6,
   "id": "477f10c6",
   "metadata": {},
   "outputs": [],
   "source": [
    "dataset1_dup = dataset1.duplicated().any()"
   ]
  },
  {
   "cell_type": "code",
   "execution_count": 7,
   "id": "897e8297",
   "metadata": {},
   "outputs": [
    {
     "data": {
      "text/plain": [
       "True"
      ]
     },
     "execution_count": 7,
     "metadata": {},
     "output_type": "execute_result"
    }
   ],
   "source": [
    "dataset1_dup"
   ]
  },
  {
   "cell_type": "code",
   "execution_count": 8,
   "id": "a8b11174",
   "metadata": {},
   "outputs": [],
   "source": [
    "dataset1 = dataset1.drop_duplicates()"
   ]
  },
  {
   "cell_type": "code",
   "execution_count": 9,
   "id": "3fd6864a",
   "metadata": {},
   "outputs": [],
   "source": [
    "dataset1_dup = dataset1.duplicated().any()"
   ]
  },
  {
   "cell_type": "code",
   "execution_count": 10,
   "id": "629fadfa",
   "metadata": {},
   "outputs": [
    {
     "data": {
      "text/plain": [
       "False"
      ]
     },
     "execution_count": 10,
     "metadata": {},
     "output_type": "execute_result"
    }
   ],
   "source": [
    "dataset1_dup"
   ]
  },
  {
   "cell_type": "code",
   "execution_count": 11,
   "id": "28f19708",
   "metadata": {},
   "outputs": [],
   "source": [
    "cate_val = []\n",
    "cont_val = []\n",
    "for column in dataset1.columns:\n",
    "    if dataset1[column].nunique() <=10:\n",
    "        cate_val.append(column)\n",
    "    else:\n",
    "        cont_val.append(column)"
   ]
  },
  {
   "cell_type": "code",
   "execution_count": 12,
   "id": "70646679",
   "metadata": {},
   "outputs": [
    {
     "data": {
      "text/plain": [
       "['sex', 'cp', 'fbs', 'restecg', 'exang', 'slope', 'ca', 'thal', 'target']"
      ]
     },
     "execution_count": 12,
     "metadata": {},
     "output_type": "execute_result"
    }
   ],
   "source": [
    "cate_val"
   ]
  },
  {
   "cell_type": "code",
   "execution_count": 13,
   "id": "815a2535",
   "metadata": {},
   "outputs": [
    {
     "data": {
      "text/plain": [
       "['age', 'trestbps', 'chol', 'thalach', 'oldpeak']"
      ]
     },
     "execution_count": 13,
     "metadata": {},
     "output_type": "execute_result"
    }
   ],
   "source": [
    "cont_val"
   ]
  },
  {
   "cell_type": "code",
   "execution_count": 14,
   "id": "a0c3e520",
   "metadata": {},
   "outputs": [
    {
     "data": {
      "text/plain": [
       "array([3, 2, 1, 0], dtype=int64)"
      ]
     },
     "execution_count": 14,
     "metadata": {},
     "output_type": "execute_result"
    }
   ],
   "source": [
    "dataset1['cp'].unique()"
   ]
  },
  {
   "cell_type": "code",
   "execution_count": 15,
   "id": "52a55525",
   "metadata": {},
   "outputs": [],
   "source": [
    "cate_val.remove('sex')\n",
    "cate_val.remove('target')\n",
    "dataset1 = pd.get_dummies(dataset1,columns = cate_val,drop_first=True)"
   ]
  },
  {
   "cell_type": "code",
   "execution_count": 16,
   "id": "1648bf2a",
   "metadata": {},
   "outputs": [
    {
     "data": {
      "text/html": [
       "<div>\n",
       "<style scoped>\n",
       "    .dataframe tbody tr th:only-of-type {\n",
       "        vertical-align: middle;\n",
       "    }\n",
       "\n",
       "    .dataframe tbody tr th {\n",
       "        vertical-align: top;\n",
       "    }\n",
       "\n",
       "    .dataframe thead th {\n",
       "        text-align: right;\n",
       "    }\n",
       "</style>\n",
       "<table border=\"1\" class=\"dataframe\">\n",
       "  <thead>\n",
       "    <tr style=\"text-align: right;\">\n",
       "      <th></th>\n",
       "      <th>age</th>\n",
       "      <th>sex</th>\n",
       "      <th>trestbps</th>\n",
       "      <th>chol</th>\n",
       "      <th>thalach</th>\n",
       "      <th>oldpeak</th>\n",
       "      <th>target</th>\n",
       "      <th>cp_1</th>\n",
       "      <th>cp_2</th>\n",
       "      <th>cp_3</th>\n",
       "      <th>...</th>\n",
       "      <th>exang_1</th>\n",
       "      <th>slope_1</th>\n",
       "      <th>slope_2</th>\n",
       "      <th>ca_1</th>\n",
       "      <th>ca_2</th>\n",
       "      <th>ca_3</th>\n",
       "      <th>ca_4</th>\n",
       "      <th>thal_1</th>\n",
       "      <th>thal_2</th>\n",
       "      <th>thal_3</th>\n",
       "    </tr>\n",
       "  </thead>\n",
       "  <tbody>\n",
       "    <tr>\n",
       "      <th>0</th>\n",
       "      <td>63</td>\n",
       "      <td>1</td>\n",
       "      <td>145</td>\n",
       "      <td>233</td>\n",
       "      <td>150</td>\n",
       "      <td>2.3</td>\n",
       "      <td>1</td>\n",
       "      <td>0</td>\n",
       "      <td>0</td>\n",
       "      <td>1</td>\n",
       "      <td>...</td>\n",
       "      <td>0</td>\n",
       "      <td>0</td>\n",
       "      <td>0</td>\n",
       "      <td>0</td>\n",
       "      <td>0</td>\n",
       "      <td>0</td>\n",
       "      <td>0</td>\n",
       "      <td>1</td>\n",
       "      <td>0</td>\n",
       "      <td>0</td>\n",
       "    </tr>\n",
       "    <tr>\n",
       "      <th>1</th>\n",
       "      <td>37</td>\n",
       "      <td>1</td>\n",
       "      <td>130</td>\n",
       "      <td>250</td>\n",
       "      <td>187</td>\n",
       "      <td>3.5</td>\n",
       "      <td>1</td>\n",
       "      <td>0</td>\n",
       "      <td>1</td>\n",
       "      <td>0</td>\n",
       "      <td>...</td>\n",
       "      <td>0</td>\n",
       "      <td>0</td>\n",
       "      <td>0</td>\n",
       "      <td>0</td>\n",
       "      <td>0</td>\n",
       "      <td>0</td>\n",
       "      <td>0</td>\n",
       "      <td>0</td>\n",
       "      <td>1</td>\n",
       "      <td>0</td>\n",
       "    </tr>\n",
       "    <tr>\n",
       "      <th>2</th>\n",
       "      <td>41</td>\n",
       "      <td>0</td>\n",
       "      <td>130</td>\n",
       "      <td>204</td>\n",
       "      <td>172</td>\n",
       "      <td>1.4</td>\n",
       "      <td>1</td>\n",
       "      <td>1</td>\n",
       "      <td>0</td>\n",
       "      <td>0</td>\n",
       "      <td>...</td>\n",
       "      <td>0</td>\n",
       "      <td>0</td>\n",
       "      <td>1</td>\n",
       "      <td>0</td>\n",
       "      <td>0</td>\n",
       "      <td>0</td>\n",
       "      <td>0</td>\n",
       "      <td>0</td>\n",
       "      <td>1</td>\n",
       "      <td>0</td>\n",
       "    </tr>\n",
       "    <tr>\n",
       "      <th>3</th>\n",
       "      <td>56</td>\n",
       "      <td>1</td>\n",
       "      <td>120</td>\n",
       "      <td>236</td>\n",
       "      <td>178</td>\n",
       "      <td>0.8</td>\n",
       "      <td>1</td>\n",
       "      <td>1</td>\n",
       "      <td>0</td>\n",
       "      <td>0</td>\n",
       "      <td>...</td>\n",
       "      <td>0</td>\n",
       "      <td>0</td>\n",
       "      <td>1</td>\n",
       "      <td>0</td>\n",
       "      <td>0</td>\n",
       "      <td>0</td>\n",
       "      <td>0</td>\n",
       "      <td>0</td>\n",
       "      <td>1</td>\n",
       "      <td>0</td>\n",
       "    </tr>\n",
       "    <tr>\n",
       "      <th>4</th>\n",
       "      <td>57</td>\n",
       "      <td>0</td>\n",
       "      <td>120</td>\n",
       "      <td>354</td>\n",
       "      <td>163</td>\n",
       "      <td>0.6</td>\n",
       "      <td>1</td>\n",
       "      <td>0</td>\n",
       "      <td>0</td>\n",
       "      <td>0</td>\n",
       "      <td>...</td>\n",
       "      <td>1</td>\n",
       "      <td>0</td>\n",
       "      <td>1</td>\n",
       "      <td>0</td>\n",
       "      <td>0</td>\n",
       "      <td>0</td>\n",
       "      <td>0</td>\n",
       "      <td>0</td>\n",
       "      <td>1</td>\n",
       "      <td>0</td>\n",
       "    </tr>\n",
       "  </tbody>\n",
       "</table>\n",
       "<p>5 rows × 23 columns</p>\n",
       "</div>"
      ],
      "text/plain": [
       "   age  sex  trestbps  chol  thalach  oldpeak  target  cp_1  cp_2  cp_3  ...  \\\n",
       "0   63    1       145   233      150      2.3       1     0     0     1  ...   \n",
       "1   37    1       130   250      187      3.5       1     0     1     0  ...   \n",
       "2   41    0       130   204      172      1.4       1     1     0     0  ...   \n",
       "3   56    1       120   236      178      0.8       1     1     0     0  ...   \n",
       "4   57    0       120   354      163      0.6       1     0     0     0  ...   \n",
       "\n",
       "   exang_1  slope_1  slope_2  ca_1  ca_2  ca_3  ca_4  thal_1  thal_2  thal_3  \n",
       "0        0        0        0     0     0     0     0       1       0       0  \n",
       "1        0        0        0     0     0     0     0       0       1       0  \n",
       "2        0        0        1     0     0     0     0       0       1       0  \n",
       "3        0        0        1     0     0     0     0       0       1       0  \n",
       "4        1        0        1     0     0     0     0       0       1       0  \n",
       "\n",
       "[5 rows x 23 columns]"
      ]
     },
     "execution_count": 16,
     "metadata": {},
     "output_type": "execute_result"
    }
   ],
   "source": [
    "dataset1.head()"
   ]
  },
  {
   "cell_type": "code",
   "execution_count": 17,
   "id": "a8d611e2",
   "metadata": {},
   "outputs": [],
   "source": [
    "#feature Scaling\n",
    "from sklearn.preprocessing import StandardScaler"
   ]
  },
  {
   "cell_type": "code",
   "execution_count": 18,
   "id": "820175c9",
   "metadata": {},
   "outputs": [],
   "source": [
    "st = StandardScaler()\n",
    "dataset1[cont_val] = st.fit_transform(dataset1[cont_val])"
   ]
  },
  {
   "cell_type": "code",
   "execution_count": 19,
   "id": "00170445",
   "metadata": {},
   "outputs": [
    {
     "data": {
      "text/html": [
       "<div>\n",
       "<style scoped>\n",
       "    .dataframe tbody tr th:only-of-type {\n",
       "        vertical-align: middle;\n",
       "    }\n",
       "\n",
       "    .dataframe tbody tr th {\n",
       "        vertical-align: top;\n",
       "    }\n",
       "\n",
       "    .dataframe thead th {\n",
       "        text-align: right;\n",
       "    }\n",
       "</style>\n",
       "<table border=\"1\" class=\"dataframe\">\n",
       "  <thead>\n",
       "    <tr style=\"text-align: right;\">\n",
       "      <th></th>\n",
       "      <th>age</th>\n",
       "      <th>sex</th>\n",
       "      <th>trestbps</th>\n",
       "      <th>chol</th>\n",
       "      <th>thalach</th>\n",
       "      <th>oldpeak</th>\n",
       "      <th>target</th>\n",
       "      <th>cp_1</th>\n",
       "      <th>cp_2</th>\n",
       "      <th>cp_3</th>\n",
       "      <th>...</th>\n",
       "      <th>exang_1</th>\n",
       "      <th>slope_1</th>\n",
       "      <th>slope_2</th>\n",
       "      <th>ca_1</th>\n",
       "      <th>ca_2</th>\n",
       "      <th>ca_3</th>\n",
       "      <th>ca_4</th>\n",
       "      <th>thal_1</th>\n",
       "      <th>thal_2</th>\n",
       "      <th>thal_3</th>\n",
       "    </tr>\n",
       "  </thead>\n",
       "  <tbody>\n",
       "    <tr>\n",
       "      <th>0</th>\n",
       "      <td>0.949794</td>\n",
       "      <td>1</td>\n",
       "      <td>0.764066</td>\n",
       "      <td>-0.261285</td>\n",
       "      <td>0.018826</td>\n",
       "      <td>1.084022</td>\n",
       "      <td>1</td>\n",
       "      <td>0</td>\n",
       "      <td>0</td>\n",
       "      <td>1</td>\n",
       "      <td>...</td>\n",
       "      <td>0</td>\n",
       "      <td>0</td>\n",
       "      <td>0</td>\n",
       "      <td>0</td>\n",
       "      <td>0</td>\n",
       "      <td>0</td>\n",
       "      <td>0</td>\n",
       "      <td>1</td>\n",
       "      <td>0</td>\n",
       "      <td>0</td>\n",
       "    </tr>\n",
       "    <tr>\n",
       "      <th>1</th>\n",
       "      <td>-1.928548</td>\n",
       "      <td>1</td>\n",
       "      <td>-0.091401</td>\n",
       "      <td>0.067741</td>\n",
       "      <td>1.636979</td>\n",
       "      <td>2.118926</td>\n",
       "      <td>1</td>\n",
       "      <td>0</td>\n",
       "      <td>1</td>\n",
       "      <td>0</td>\n",
       "      <td>...</td>\n",
       "      <td>0</td>\n",
       "      <td>0</td>\n",
       "      <td>0</td>\n",
       "      <td>0</td>\n",
       "      <td>0</td>\n",
       "      <td>0</td>\n",
       "      <td>0</td>\n",
       "      <td>0</td>\n",
       "      <td>1</td>\n",
       "      <td>0</td>\n",
       "    </tr>\n",
       "    <tr>\n",
       "      <th>2</th>\n",
       "      <td>-1.485726</td>\n",
       "      <td>0</td>\n",
       "      <td>-0.091401</td>\n",
       "      <td>-0.822564</td>\n",
       "      <td>0.980971</td>\n",
       "      <td>0.307844</td>\n",
       "      <td>1</td>\n",
       "      <td>1</td>\n",
       "      <td>0</td>\n",
       "      <td>0</td>\n",
       "      <td>...</td>\n",
       "      <td>0</td>\n",
       "      <td>0</td>\n",
       "      <td>1</td>\n",
       "      <td>0</td>\n",
       "      <td>0</td>\n",
       "      <td>0</td>\n",
       "      <td>0</td>\n",
       "      <td>0</td>\n",
       "      <td>1</td>\n",
       "      <td>0</td>\n",
       "    </tr>\n",
       "    <tr>\n",
       "      <th>3</th>\n",
       "      <td>0.174856</td>\n",
       "      <td>1</td>\n",
       "      <td>-0.661712</td>\n",
       "      <td>-0.203222</td>\n",
       "      <td>1.243374</td>\n",
       "      <td>-0.209608</td>\n",
       "      <td>1</td>\n",
       "      <td>1</td>\n",
       "      <td>0</td>\n",
       "      <td>0</td>\n",
       "      <td>...</td>\n",
       "      <td>0</td>\n",
       "      <td>0</td>\n",
       "      <td>1</td>\n",
       "      <td>0</td>\n",
       "      <td>0</td>\n",
       "      <td>0</td>\n",
       "      <td>0</td>\n",
       "      <td>0</td>\n",
       "      <td>1</td>\n",
       "      <td>0</td>\n",
       "    </tr>\n",
       "    <tr>\n",
       "      <th>4</th>\n",
       "      <td>0.285561</td>\n",
       "      <td>0</td>\n",
       "      <td>-0.661712</td>\n",
       "      <td>2.080602</td>\n",
       "      <td>0.587366</td>\n",
       "      <td>-0.382092</td>\n",
       "      <td>1</td>\n",
       "      <td>0</td>\n",
       "      <td>0</td>\n",
       "      <td>0</td>\n",
       "      <td>...</td>\n",
       "      <td>1</td>\n",
       "      <td>0</td>\n",
       "      <td>1</td>\n",
       "      <td>0</td>\n",
       "      <td>0</td>\n",
       "      <td>0</td>\n",
       "      <td>0</td>\n",
       "      <td>0</td>\n",
       "      <td>1</td>\n",
       "      <td>0</td>\n",
       "    </tr>\n",
       "  </tbody>\n",
       "</table>\n",
       "<p>5 rows × 23 columns</p>\n",
       "</div>"
      ],
      "text/plain": [
       "        age  sex  trestbps      chol   thalach   oldpeak  target  cp_1  cp_2  \\\n",
       "0  0.949794    1  0.764066 -0.261285  0.018826  1.084022       1     0     0   \n",
       "1 -1.928548    1 -0.091401  0.067741  1.636979  2.118926       1     0     1   \n",
       "2 -1.485726    0 -0.091401 -0.822564  0.980971  0.307844       1     1     0   \n",
       "3  0.174856    1 -0.661712 -0.203222  1.243374 -0.209608       1     1     0   \n",
       "4  0.285561    0 -0.661712  2.080602  0.587366 -0.382092       1     0     0   \n",
       "\n",
       "   cp_3  ...  exang_1  slope_1  slope_2  ca_1  ca_2  ca_3  ca_4  thal_1  \\\n",
       "0     1  ...        0        0        0     0     0     0     0       1   \n",
       "1     0  ...        0        0        0     0     0     0     0       0   \n",
       "2     0  ...        0        0        1     0     0     0     0       0   \n",
       "3     0  ...        0        0        1     0     0     0     0       0   \n",
       "4     0  ...        1        0        1     0     0     0     0       0   \n",
       "\n",
       "   thal_2  thal_3  \n",
       "0       0       0  \n",
       "1       1       0  \n",
       "2       1       0  \n",
       "3       1       0  \n",
       "4       1       0  \n",
       "\n",
       "[5 rows x 23 columns]"
      ]
     },
     "execution_count": 19,
     "metadata": {},
     "output_type": "execute_result"
    }
   ],
   "source": [
    "dataset1.head()"
   ]
  },
  {
   "cell_type": "code",
   "execution_count": 20,
   "id": "2d7ffa37",
   "metadata": {},
   "outputs": [
    {
     "data": {
      "text/plain": [
       "1    0.543046\n",
       "0    0.456954\n",
       "Name: target, dtype: float64"
      ]
     },
     "execution_count": 20,
     "metadata": {},
     "output_type": "execute_result"
    }
   ],
   "source": [
    "dataset1['target'].value_counts(normalize=True)"
   ]
  },
  {
   "cell_type": "code",
   "execution_count": 21,
   "id": "1ccc45b3",
   "metadata": {},
   "outputs": [
    {
     "data": {
      "image/png": "[encoded data removed]",
      "text/plain": [
       "<Figure size 576x360 with 1 Axes>"
      ]
     },
     "metadata": {},
     "output_type": "display_data"
    }
   ],
   "source": [
    "dataset1['target'].value_counts(normalize=True)\n",
    "plt.figure(figsize=(8,5))\n",
    "dataset1['target'].value_counts().plot(kind='pie',autopct='%1.1f%%',labels=['No heart disease','heart disease'])\n",
    "plt.show()"
   ]
  },
  {
   "cell_type": "markdown",
   "id": "b207dfe7",
   "metadata": {},
   "source": [
    "# dataset2\n"
   ]
  },
  {
   "cell_type": "code",
   "execution_count": 22,
   "id": "ce24433a",
   "metadata": {},
   "outputs": [],
   "source": [
    "import pandas as pd\n",
    "import matplotlib.pyplot as plt\n",
    "\n",
    "dataset2 = pd.read_csv('heart (1).csv')"
   ]
  },
  {
   "cell_type": "code",
   "execution_count": 23,
   "id": "5e098af1",
   "metadata": {},
   "outputs": [
    {
     "data": {
      "text/plain": [
       "14350"
      ]
     },
     "execution_count": 23,
     "metadata": {},
     "output_type": "execute_result"
    }
   ],
   "source": [
    "dataset2.size"
   ]
  },
  {
   "cell_type": "code",
   "execution_count": 11,
   "id": "e43e88ef",
   "metadata": {},
   "outputs": [
    {
     "data": {
      "text/plain": [
       "(1025, 14)"
      ]
     },
     "execution_count": 11,
     "metadata": {},
     "output_type": "execute_result"
    }
   ],
   "source": [
    "dataset2.shape"
   ]
  },
  {
   "cell_type": "code",
   "execution_count": 24,
   "id": "72c7c6d4",
   "metadata": {},
   "outputs": [
    {
     "data": {
      "text/plain": [
       "age         0\n",
       "sex         0\n",
       "cp          0\n",
       "trestbps    0\n",
       "chol        0\n",
       "fbs         0\n",
       "restecg     0\n",
       "thalach     0\n",
       "exang       0\n",
       "oldpeak     0\n",
       "slope       0\n",
       "ca          0\n",
       "thal        0\n",
       "target      0\n",
       "dtype: int64"
      ]
     },
     "execution_count": 24,
     "metadata": {},
     "output_type": "execute_result"
    }
   ],
   "source": [
    "dataset2.isnull().sum()"
   ]
  },
  {
   "cell_type": "code",
   "execution_count": 25,
   "id": "ab57b3c5",
   "metadata": {},
   "outputs": [],
   "source": [
    "dataset2_dup = dataset2.duplicated().any()"
   ]
  },
  {
   "cell_type": "code",
   "execution_count": 26,
   "id": "69b568bf",
   "metadata": {},
   "outputs": [
    {
     "data": {
      "text/plain": [
       "True"
      ]
     },
     "execution_count": 26,
     "metadata": {},
     "output_type": "execute_result"
    }
   ],
   "source": [
    "dataset2_dup"
   ]
  },
  {
   "cell_type": "code",
   "execution_count": 27,
   "id": "a999b2fc",
   "metadata": {},
   "outputs": [],
   "source": [
    "dataset2 = dataset2.drop_duplicates()"
   ]
  },
  {
   "cell_type": "code",
   "execution_count": 28,
   "id": "b566338c",
   "metadata": {},
   "outputs": [],
   "source": [
    "dataset2_dup = dataset2.duplicated().any()"
   ]
  },
  {
   "cell_type": "code",
   "execution_count": 29,
   "id": "bf841d09",
   "metadata": {},
   "outputs": [
    {
     "data": {
      "text/plain": [
       "False"
      ]
     },
     "execution_count": 29,
     "metadata": {},
     "output_type": "execute_result"
    }
   ],
   "source": [
    "dataset2_dup"
   ]
  },
  {
   "cell_type": "code",
   "execution_count": 30,
   "id": "f1dcb652",
   "metadata": {},
   "outputs": [],
   "source": [
    "cate_val = []\n",
    "cont_val = []\n",
    "for column in dataset2.columns:\n",
    "    if dataset2[column].nunique() <=10:\n",
    "        cate_val.append(column)\n",
    "    else:\n",
    "        cont_val.append(column)"
   ]
  },
  {
   "cell_type": "code",
   "execution_count": 31,
   "id": "7668fcbb",
   "metadata": {},
   "outputs": [
    {
     "data": {
      "text/plain": [
       "['sex', 'cp', 'fbs', 'restecg', 'exang', 'slope', 'ca', 'thal', 'target']"
      ]
     },
     "execution_count": 31,
     "metadata": {},
     "output_type": "execute_result"
    }
   ],
   "source": [
    "cate_val"
   ]
  },
  {
   "cell_type": "code",
   "execution_count": 32,
   "id": "acc181a6",
   "metadata": {},
   "outputs": [
    {
     "data": {
      "text/plain": [
       "['age', 'trestbps', 'chol', 'thalach', 'oldpeak']"
      ]
     },
     "execution_count": 32,
     "metadata": {},
     "output_type": "execute_result"
    }
   ],
   "source": [
    "cont_val"
   ]
  },
  {
   "cell_type": "code",
   "execution_count": 33,
   "id": "543c4034",
   "metadata": {},
   "outputs": [
    {
     "data": {
      "text/plain": [
       "array([0, 1, 2, 3], dtype=int64)"
      ]
     },
     "execution_count": 33,
     "metadata": {},
     "output_type": "execute_result"
    }
   ],
   "source": [
    "dataset2['cp'].unique()"
   ]
  },
  {
   "cell_type": "code",
   "execution_count": 34,
   "id": "9a27a12e",
   "metadata": {},
   "outputs": [],
   "source": [
    "cate_val.remove('sex')\n",
    "cate_val.remove('target')\n",
    "dataset2 = pd.get_dummies(dataset2,columns = cate_val,drop_first=True)"
   ]
  },
  {
   "cell_type": "code",
   "execution_count": 35,
   "id": "9854d401",
   "metadata": {},
   "outputs": [
    {
     "data": {
      "text/html": [
       "<div>\n",
       "<style scoped>\n",
       "    .dataframe tbody tr th:only-of-type {\n",
       "        vertical-align: middle;\n",
       "    }\n",
       "\n",
       "    .dataframe tbody tr th {\n",
       "        vertical-align: top;\n",
       "    }\n",
       "\n",
       "    .dataframe thead th {\n",
       "        text-align: right;\n",
       "    }\n",
       "</style>\n",
       "<table border=\"1\" class=\"dataframe\">\n",
       "  <thead>\n",
       "    <tr style=\"text-align: right;\">\n",
       "      <th></th>\n",
       "      <th>age</th>\n",
       "      <th>sex</th>\n",
       "      <th>trestbps</th>\n",
       "      <th>chol</th>\n",
       "      <th>thalach</th>\n",
       "      <th>oldpeak</th>\n",
       "      <th>target</th>\n",
       "      <th>cp_1</th>\n",
       "      <th>cp_2</th>\n",
       "      <th>cp_3</th>\n",
       "      <th>...</th>\n",
       "      <th>exang_1</th>\n",
       "      <th>slope_1</th>\n",
       "      <th>slope_2</th>\n",
       "      <th>ca_1</th>\n",
       "      <th>ca_2</th>\n",
       "      <th>ca_3</th>\n",
       "      <th>ca_4</th>\n",
       "      <th>thal_1</th>\n",
       "      <th>thal_2</th>\n",
       "      <th>thal_3</th>\n",
       "    </tr>\n",
       "  </thead>\n",
       "  <tbody>\n",
       "    <tr>\n",
       "      <th>0</th>\n",
       "      <td>52</td>\n",
       "      <td>1</td>\n",
       "      <td>125</td>\n",
       "      <td>212</td>\n",
       "      <td>168</td>\n",
       "      <td>1.0</td>\n",
       "      <td>0</td>\n",
       "      <td>0</td>\n",
       "      <td>0</td>\n",
       "      <td>0</td>\n",
       "      <td>...</td>\n",
       "      <td>0</td>\n",
       "      <td>0</td>\n",
       "      <td>1</td>\n",
       "      <td>0</td>\n",
       "      <td>1</td>\n",
       "      <td>0</td>\n",
       "      <td>0</td>\n",
       "      <td>0</td>\n",
       "      <td>0</td>\n",
       "      <td>1</td>\n",
       "    </tr>\n",
       "    <tr>\n",
       "      <th>1</th>\n",
       "      <td>53</td>\n",
       "      <td>1</td>\n",
       "      <td>140</td>\n",
       "      <td>203</td>\n",
       "      <td>155</td>\n",
       "      <td>3.1</td>\n",
       "      <td>0</td>\n",
       "      <td>0</td>\n",
       "      <td>0</td>\n",
       "      <td>0</td>\n",
       "      <td>...</td>\n",
       "      <td>1</td>\n",
       "      <td>0</td>\n",
       "      <td>0</td>\n",
       "      <td>0</td>\n",
       "      <td>0</td>\n",
       "      <td>0</td>\n",
       "      <td>0</td>\n",
       "      <td>0</td>\n",
       "      <td>0</td>\n",
       "      <td>1</td>\n",
       "    </tr>\n",
       "    <tr>\n",
       "      <th>2</th>\n",
       "      <td>70</td>\n",
       "      <td>1</td>\n",
       "      <td>145</td>\n",
       "      <td>174</td>\n",
       "      <td>125</td>\n",
       "      <td>2.6</td>\n",
       "      <td>0</td>\n",
       "      <td>0</td>\n",
       "      <td>0</td>\n",
       "      <td>0</td>\n",
       "      <td>...</td>\n",
       "      <td>1</td>\n",
       "      <td>0</td>\n",
       "      <td>0</td>\n",
       "      <td>0</td>\n",
       "      <td>0</td>\n",
       "      <td>0</td>\n",
       "      <td>0</td>\n",
       "      <td>0</td>\n",
       "      <td>0</td>\n",
       "      <td>1</td>\n",
       "    </tr>\n",
       "    <tr>\n",
       "      <th>3</th>\n",
       "      <td>61</td>\n",
       "      <td>1</td>\n",
       "      <td>148</td>\n",
       "      <td>203</td>\n",
       "      <td>161</td>\n",
       "      <td>0.0</td>\n",
       "      <td>0</td>\n",
       "      <td>0</td>\n",
       "      <td>0</td>\n",
       "      <td>0</td>\n",
       "      <td>...</td>\n",
       "      <td>0</td>\n",
       "      <td>0</td>\n",
       "      <td>1</td>\n",
       "      <td>1</td>\n",
       "      <td>0</td>\n",
       "      <td>0</td>\n",
       "      <td>0</td>\n",
       "      <td>0</td>\n",
       "      <td>0</td>\n",
       "      <td>1</td>\n",
       "    </tr>\n",
       "    <tr>\n",
       "      <th>4</th>\n",
       "      <td>62</td>\n",
       "      <td>0</td>\n",
       "      <td>138</td>\n",
       "      <td>294</td>\n",
       "      <td>106</td>\n",
       "      <td>1.9</td>\n",
       "      <td>0</td>\n",
       "      <td>0</td>\n",
       "      <td>0</td>\n",
       "      <td>0</td>\n",
       "      <td>...</td>\n",
       "      <td>0</td>\n",
       "      <td>1</td>\n",
       "      <td>0</td>\n",
       "      <td>0</td>\n",
       "      <td>0</td>\n",
       "      <td>1</td>\n",
       "      <td>0</td>\n",
       "      <td>0</td>\n",
       "      <td>1</td>\n",
       "      <td>0</td>\n",
       "    </tr>\n",
       "  </tbody>\n",
       "</table>\n",
       "<p>5 rows × 23 columns</p>\n",
       "</div>"
      ],
      "text/plain": [
       "   age  sex  trestbps  chol  thalach  oldpeak  target  cp_1  cp_2  cp_3  ...  \\\n",
       "0   52    1       125   212      168      1.0       0     0     0     0  ...   \n",
       "1   53    1       140   203      155      3.1       0     0     0     0  ...   \n",
       "2   70    1       145   174      125      2.6       0     0     0     0  ...   \n",
       "3   61    1       148   203      161      0.0       0     0     0     0  ...   \n",
       "4   62    0       138   294      106      1.9       0     0     0     0  ...   \n",
       "\n",
       "   exang_1  slope_1  slope_2  ca_1  ca_2  ca_3  ca_4  thal_1  thal_2  thal_3  \n",
       "0        0        0        1     0     1     0     0       0       0       1  \n",
       "1        1        0        0     0     0     0     0       0       0       1  \n",
       "2        1        0        0     0     0     0     0       0       0       1  \n",
       "3        0        0        1     1     0     0     0       0       0       1  \n",
       "4        0        1        0     0     0     1     0       0       1       0  \n",
       "\n",
       "[5 rows x 23 columns]"
      ]
     },
     "execution_count": 35,
     "metadata": {},
     "output_type": "execute_result"
    }
   ],
   "source": [
    "dataset2.head()"
   ]
  },
  {
   "cell_type": "code",
   "execution_count": 36,
   "id": "04918c6f",
   "metadata": {},
   "outputs": [],
   "source": [
    "#feature scaling\n",
    "from sklearn.preprocessing import StandardScaler"
   ]
  },
  {
   "cell_type": "code",
   "execution_count": 37,
   "id": "668a480b",
   "metadata": {},
   "outputs": [],
   "source": [
    "st = StandardScaler()\n",
    "dataset2[cont_val] = st.fit_transform(dataset2[cont_val])"
   ]
  },
  {
   "cell_type": "code",
   "execution_count": 38,
   "id": "5afc7fd1",
   "metadata": {},
   "outputs": [
    {
     "data": {
      "text/html": [
       "<div>\n",
       "<style scoped>\n",
       "    .dataframe tbody tr th:only-of-type {\n",
       "        vertical-align: middle;\n",
       "    }\n",
       "\n",
       "    .dataframe tbody tr th {\n",
       "        vertical-align: top;\n",
       "    }\n",
       "\n",
       "    .dataframe thead th {\n",
       "        text-align: right;\n",
       "    }\n",
       "</style>\n",
       "<table border=\"1\" class=\"dataframe\">\n",
       "  <thead>\n",
       "    <tr style=\"text-align: right;\">\n",
       "      <th></th>\n",
       "      <th>age</th>\n",
       "      <th>sex</th>\n",
       "      <th>trestbps</th>\n",
       "      <th>chol</th>\n",
       "      <th>thalach</th>\n",
       "      <th>oldpeak</th>\n",
       "      <th>target</th>\n",
       "      <th>cp_1</th>\n",
       "      <th>cp_2</th>\n",
       "      <th>cp_3</th>\n",
       "      <th>...</th>\n",
       "      <th>exang_1</th>\n",
       "      <th>slope_1</th>\n",
       "      <th>slope_2</th>\n",
       "      <th>ca_1</th>\n",
       "      <th>ca_2</th>\n",
       "      <th>ca_3</th>\n",
       "      <th>ca_4</th>\n",
       "      <th>thal_1</th>\n",
       "      <th>thal_2</th>\n",
       "      <th>thal_3</th>\n",
       "    </tr>\n",
       "  </thead>\n",
       "  <tbody>\n",
       "    <tr>\n",
       "      <th>0</th>\n",
       "      <td>-0.267966</td>\n",
       "      <td>1</td>\n",
       "      <td>-0.376556</td>\n",
       "      <td>-0.667728</td>\n",
       "      <td>0.806035</td>\n",
       "      <td>-0.037124</td>\n",
       "      <td>0</td>\n",
       "      <td>0</td>\n",
       "      <td>0</td>\n",
       "      <td>0</td>\n",
       "      <td>...</td>\n",
       "      <td>0</td>\n",
       "      <td>0</td>\n",
       "      <td>1</td>\n",
       "      <td>0</td>\n",
       "      <td>1</td>\n",
       "      <td>0</td>\n",
       "      <td>0</td>\n",
       "      <td>0</td>\n",
       "      <td>0</td>\n",
       "      <td>1</td>\n",
       "    </tr>\n",
       "    <tr>\n",
       "      <th>1</th>\n",
       "      <td>-0.157260</td>\n",
       "      <td>1</td>\n",
       "      <td>0.478910</td>\n",
       "      <td>-0.841918</td>\n",
       "      <td>0.237495</td>\n",
       "      <td>1.773958</td>\n",
       "      <td>0</td>\n",
       "      <td>0</td>\n",
       "      <td>0</td>\n",
       "      <td>0</td>\n",
       "      <td>...</td>\n",
       "      <td>1</td>\n",
       "      <td>0</td>\n",
       "      <td>0</td>\n",
       "      <td>0</td>\n",
       "      <td>0</td>\n",
       "      <td>0</td>\n",
       "      <td>0</td>\n",
       "      <td>0</td>\n",
       "      <td>0</td>\n",
       "      <td>1</td>\n",
       "    </tr>\n",
       "    <tr>\n",
       "      <th>2</th>\n",
       "      <td>1.724733</td>\n",
       "      <td>1</td>\n",
       "      <td>0.764066</td>\n",
       "      <td>-1.403197</td>\n",
       "      <td>-1.074521</td>\n",
       "      <td>1.342748</td>\n",
       "      <td>0</td>\n",
       "      <td>0</td>\n",
       "      <td>0</td>\n",
       "      <td>0</td>\n",
       "      <td>...</td>\n",
       "      <td>1</td>\n",
       "      <td>0</td>\n",
       "      <td>0</td>\n",
       "      <td>0</td>\n",
       "      <td>0</td>\n",
       "      <td>0</td>\n",
       "      <td>0</td>\n",
       "      <td>0</td>\n",
       "      <td>0</td>\n",
       "      <td>1</td>\n",
       "    </tr>\n",
       "    <tr>\n",
       "      <th>3</th>\n",
       "      <td>0.728383</td>\n",
       "      <td>1</td>\n",
       "      <td>0.935159</td>\n",
       "      <td>-0.841918</td>\n",
       "      <td>0.499898</td>\n",
       "      <td>-0.899544</td>\n",
       "      <td>0</td>\n",
       "      <td>0</td>\n",
       "      <td>0</td>\n",
       "      <td>0</td>\n",
       "      <td>...</td>\n",
       "      <td>0</td>\n",
       "      <td>0</td>\n",
       "      <td>1</td>\n",
       "      <td>1</td>\n",
       "      <td>0</td>\n",
       "      <td>0</td>\n",
       "      <td>0</td>\n",
       "      <td>0</td>\n",
       "      <td>0</td>\n",
       "      <td>1</td>\n",
       "    </tr>\n",
       "    <tr>\n",
       "      <th>4</th>\n",
       "      <td>0.839089</td>\n",
       "      <td>0</td>\n",
       "      <td>0.364848</td>\n",
       "      <td>0.919336</td>\n",
       "      <td>-1.905464</td>\n",
       "      <td>0.739054</td>\n",
       "      <td>0</td>\n",
       "      <td>0</td>\n",
       "      <td>0</td>\n",
       "      <td>0</td>\n",
       "      <td>...</td>\n",
       "      <td>0</td>\n",
       "      <td>1</td>\n",
       "      <td>0</td>\n",
       "      <td>0</td>\n",
       "      <td>0</td>\n",
       "      <td>1</td>\n",
       "      <td>0</td>\n",
       "      <td>0</td>\n",
       "      <td>1</td>\n",
       "      <td>0</td>\n",
       "    </tr>\n",
       "  </tbody>\n",
       "</table>\n",
       "<p>5 rows × 23 columns</p>\n",
       "</div>"
      ],
      "text/plain": [
       "        age  sex  trestbps      chol   thalach   oldpeak  target  cp_1  cp_2  \\\n",
       "0 -0.267966    1 -0.376556 -0.667728  0.806035 -0.037124       0     0     0   \n",
       "1 -0.157260    1  0.478910 -0.841918  0.237495  1.773958       0     0     0   \n",
       "2  1.724733    1  0.764066 -1.403197 -1.074521  1.342748       0     0     0   \n",
       "3  0.728383    1  0.935159 -0.841918  0.499898 -0.899544       0     0     0   \n",
       "4  0.839089    0  0.364848  0.919336 -1.905464  0.739054       0     0     0   \n",
       "\n",
       "   cp_3  ...  exang_1  slope_1  slope_2  ca_1  ca_2  ca_3  ca_4  thal_1  \\\n",
       "0     0  ...        0        0        1     0     1     0     0       0   \n",
       "1     0  ...        1        0        0     0     0     0     0       0   \n",
       "2     0  ...        1        0        0     0     0     0     0       0   \n",
       "3     0  ...        0        0        1     1     0     0     0       0   \n",
       "4     0  ...        0        1        0     0     0     1     0       0   \n",
       "\n",
       "   thal_2  thal_3  \n",
       "0       0       1  \n",
       "1       0       1  \n",
       "2       0       1  \n",
       "3       0       1  \n",
       "4       1       0  \n",
       "\n",
       "[5 rows x 23 columns]"
      ]
     },
     "execution_count": 38,
     "metadata": {},
     "output_type": "execute_result"
    }
   ],
   "source": [
    "dataset2.head()"
   ]
  },
  {
   "cell_type": "code",
   "execution_count": 39,
   "id": "bb4583f8",
   "metadata": {},
   "outputs": [
    {
     "data": {
      "text/plain": [
       "1    0.543046\n",
       "0    0.456954\n",
       "Name: target, dtype: float64"
      ]
     },
     "execution_count": 39,
     "metadata": {},
     "output_type": "execute_result"
    }
   ],
   "source": [
    "dataset2['target'].value_counts(normalize=True)"
   ]
  },
  {
   "cell_type": "code",
   "execution_count": 40,
   "id": "4dc8b2d8",
   "metadata": {},
   "outputs": [
    {
     "data": {
      "image/png": "[encoded data removed]",
      "text/plain": [
       "<Figure size 576x360 with 1 Axes>"
      ]
     },
     "metadata": {},
     "output_type": "display_data"
    }
   ],
   "source": [
    "dataset2['target'].value_counts(normalize=True)\n",
    "plt.figure(figsize=(8,5))\n",
    "dataset2['target'].value_counts().plot(kind='pie',autopct='%1.1f%%',labels=['No heart disease','heart disease'])\n",
    "plt.show()"
   ]
  },
  {
   "cell_type": "markdown",
   "id": "1e3e6837",
   "metadata": {},
   "source": [
    "# dataset3"
   ]
  },
  {
   "cell_type": "code",
   "execution_count": 41,
   "id": "fec0e95c",
   "metadata": {},
   "outputs": [],
   "source": [
    "import pandas as pd\n",
    "import matplotlib.pyplot as plt\n",
    "\n",
    "dataset3 = pd.read_csv('heart_data.csv')"
   ]
  },
  {
   "cell_type": "code",
   "execution_count": 42,
   "id": "952874ce",
   "metadata": {},
   "outputs": [
    {
     "data": {
      "text/plain": [
       "4242"
      ]
     },
     "execution_count": 42,
     "metadata": {},
     "output_type": "execute_result"
    }
   ],
   "source": [
    "dataset3.size"
   ]
  },
  {
   "cell_type": "code",
   "execution_count": 12,
   "id": "261dcbd4",
   "metadata": {},
   "outputs": [
    {
     "data": {
      "text/plain": [
       "(303, 14)"
      ]
     },
     "execution_count": 12,
     "metadata": {},
     "output_type": "execute_result"
    }
   ],
   "source": [
    "dataset3.shape"
   ]
  },
  {
   "cell_type": "code",
   "execution_count": 43,
   "id": "4ab8b821",
   "metadata": {},
   "outputs": [
    {
     "data": {
      "text/plain": [
       "age         0\n",
       "sex         0\n",
       "cp          0\n",
       "trestbps    0\n",
       "chol        0\n",
       "fbs         0\n",
       "restecg     0\n",
       "thalach     0\n",
       "exang       0\n",
       "oldpeak     0\n",
       "slope       0\n",
       "ca          0\n",
       "thal        0\n",
       "target      0\n",
       "dtype: int64"
      ]
     },
     "execution_count": 43,
     "metadata": {},
     "output_type": "execute_result"
    }
   ],
   "source": [
    "dataset3.isnull().sum()"
   ]
  },
  {
   "cell_type": "code",
   "execution_count": 44,
   "id": "b6465ea7",
   "metadata": {},
   "outputs": [],
   "source": [
    "dataset3_dup = dataset3.duplicated().any()"
   ]
  },
  {
   "cell_type": "code",
   "execution_count": 45,
   "id": "b3fb3e93",
   "metadata": {},
   "outputs": [
    {
     "data": {
      "text/plain": [
       "True"
      ]
     },
     "execution_count": 45,
     "metadata": {},
     "output_type": "execute_result"
    }
   ],
   "source": [
    "dataset3_dup"
   ]
  },
  {
   "cell_type": "code",
   "execution_count": 46,
   "id": "aa5aead0",
   "metadata": {},
   "outputs": [],
   "source": [
    "dataset3 = dataset3.drop_duplicates()"
   ]
  },
  {
   "cell_type": "code",
   "execution_count": 47,
   "id": "7f59d016",
   "metadata": {},
   "outputs": [],
   "source": [
    "dataset3_dup = dataset3.duplicated().any()"
   ]
  },
  {
   "cell_type": "code",
   "execution_count": 48,
   "id": "15ef003f",
   "metadata": {},
   "outputs": [
    {
     "data": {
      "text/plain": [
       "False"
      ]
     },
     "execution_count": 48,
     "metadata": {},
     "output_type": "execute_result"
    }
   ],
   "source": [
    "dataset3_dup"
   ]
  },
  {
   "cell_type": "code",
   "execution_count": 49,
   "id": "91b646b7",
   "metadata": {},
   "outputs": [],
   "source": [
    "cate_val = []\n",
    "cont_val = []\n",
    "for column in dataset3.columns:\n",
    "    if dataset3[column].nunique() <=10:\n",
    "        cate_val.append(column)\n",
    "    else:\n",
    "        cont_val.append(column)"
   ]
  },
  {
   "cell_type": "code",
   "execution_count": 50,
   "id": "17f2dda3",
   "metadata": {},
   "outputs": [
    {
     "data": {
      "text/plain": [
       "['sex', 'cp', 'fbs', 'restecg', 'exang', 'slope', 'ca', 'thal', 'target']"
      ]
     },
     "execution_count": 50,
     "metadata": {},
     "output_type": "execute_result"
    }
   ],
   "source": [
    "cate_val"
   ]
  },
  {
   "cell_type": "code",
   "execution_count": 51,
   "id": "bfe2665b",
   "metadata": {},
   "outputs": [
    {
     "data": {
      "text/plain": [
       "['age', 'trestbps', 'chol', 'thalach', 'oldpeak']"
      ]
     },
     "execution_count": 51,
     "metadata": {},
     "output_type": "execute_result"
    }
   ],
   "source": [
    "cont_val"
   ]
  },
  {
   "cell_type": "code",
   "execution_count": 52,
   "id": "3971cc73",
   "metadata": {},
   "outputs": [
    {
     "data": {
      "text/plain": [
       "array([3, 2, 1, 0], dtype=int64)"
      ]
     },
     "execution_count": 52,
     "metadata": {},
     "output_type": "execute_result"
    }
   ],
   "source": [
    "dataset3['cp'].unique()"
   ]
  },
  {
   "cell_type": "code",
   "execution_count": 53,
   "id": "b7398286",
   "metadata": {},
   "outputs": [],
   "source": [
    "cate_val.remove('sex')\n",
    "cate_val.remove('target')\n",
    "dataset3 = pd.get_dummies(dataset3,columns = cate_val,drop_first=True)"
   ]
  },
  {
   "cell_type": "code",
   "execution_count": 54,
   "id": "82ea8828",
   "metadata": {},
   "outputs": [
    {
     "data": {
      "text/html": [
       "<div>\n",
       "<style scoped>\n",
       "    .dataframe tbody tr th:only-of-type {\n",
       "        vertical-align: middle;\n",
       "    }\n",
       "\n",
       "    .dataframe tbody tr th {\n",
       "        vertical-align: top;\n",
       "    }\n",
       "\n",
       "    .dataframe thead th {\n",
       "        text-align: right;\n",
       "    }\n",
       "</style>\n",
       "<table border=\"1\" class=\"dataframe\">\n",
       "  <thead>\n",
       "    <tr style=\"text-align: right;\">\n",
       "      <th></th>\n",
       "      <th>age</th>\n",
       "      <th>sex</th>\n",
       "      <th>trestbps</th>\n",
       "      <th>chol</th>\n",
       "      <th>thalach</th>\n",
       "      <th>oldpeak</th>\n",
       "      <th>target</th>\n",
       "      <th>cp_1</th>\n",
       "      <th>cp_2</th>\n",
       "      <th>cp_3</th>\n",
       "      <th>...</th>\n",
       "      <th>exang_1</th>\n",
       "      <th>slope_1</th>\n",
       "      <th>slope_2</th>\n",
       "      <th>ca_1</th>\n",
       "      <th>ca_2</th>\n",
       "      <th>ca_3</th>\n",
       "      <th>ca_4</th>\n",
       "      <th>thal_1</th>\n",
       "      <th>thal_2</th>\n",
       "      <th>thal_3</th>\n",
       "    </tr>\n",
       "  </thead>\n",
       "  <tbody>\n",
       "    <tr>\n",
       "      <th>0</th>\n",
       "      <td>63</td>\n",
       "      <td>1</td>\n",
       "      <td>145</td>\n",
       "      <td>233</td>\n",
       "      <td>150</td>\n",
       "      <td>2.3</td>\n",
       "      <td>1</td>\n",
       "      <td>0</td>\n",
       "      <td>0</td>\n",
       "      <td>1</td>\n",
       "      <td>...</td>\n",
       "      <td>0</td>\n",
       "      <td>0</td>\n",
       "      <td>0</td>\n",
       "      <td>0</td>\n",
       "      <td>0</td>\n",
       "      <td>0</td>\n",
       "      <td>0</td>\n",
       "      <td>1</td>\n",
       "      <td>0</td>\n",
       "      <td>0</td>\n",
       "    </tr>\n",
       "    <tr>\n",
       "      <th>1</th>\n",
       "      <td>37</td>\n",
       "      <td>1</td>\n",
       "      <td>130</td>\n",
       "      <td>250</td>\n",
       "      <td>187</td>\n",
       "      <td>3.5</td>\n",
       "      <td>1</td>\n",
       "      <td>0</td>\n",
       "      <td>1</td>\n",
       "      <td>0</td>\n",
       "      <td>...</td>\n",
       "      <td>0</td>\n",
       "      <td>0</td>\n",
       "      <td>0</td>\n",
       "      <td>0</td>\n",
       "      <td>0</td>\n",
       "      <td>0</td>\n",
       "      <td>0</td>\n",
       "      <td>0</td>\n",
       "      <td>1</td>\n",
       "      <td>0</td>\n",
       "    </tr>\n",
       "    <tr>\n",
       "      <th>2</th>\n",
       "      <td>41</td>\n",
       "      <td>0</td>\n",
       "      <td>130</td>\n",
       "      <td>204</td>\n",
       "      <td>172</td>\n",
       "      <td>1.4</td>\n",
       "      <td>1</td>\n",
       "      <td>1</td>\n",
       "      <td>0</td>\n",
       "      <td>0</td>\n",
       "      <td>...</td>\n",
       "      <td>0</td>\n",
       "      <td>0</td>\n",
       "      <td>1</td>\n",
       "      <td>0</td>\n",
       "      <td>0</td>\n",
       "      <td>0</td>\n",
       "      <td>0</td>\n",
       "      <td>0</td>\n",
       "      <td>1</td>\n",
       "      <td>0</td>\n",
       "    </tr>\n",
       "    <tr>\n",
       "      <th>3</th>\n",
       "      <td>56</td>\n",
       "      <td>1</td>\n",
       "      <td>120</td>\n",
       "      <td>236</td>\n",
       "      <td>178</td>\n",
       "      <td>0.8</td>\n",
       "      <td>1</td>\n",
       "      <td>1</td>\n",
       "      <td>0</td>\n",
       "      <td>0</td>\n",
       "      <td>...</td>\n",
       "      <td>0</td>\n",
       "      <td>0</td>\n",
       "      <td>1</td>\n",
       "      <td>0</td>\n",
       "      <td>0</td>\n",
       "      <td>0</td>\n",
       "      <td>0</td>\n",
       "      <td>0</td>\n",
       "      <td>1</td>\n",
       "      <td>0</td>\n",
       "    </tr>\n",
       "    <tr>\n",
       "      <th>4</th>\n",
       "      <td>57</td>\n",
       "      <td>0</td>\n",
       "      <td>120</td>\n",
       "      <td>354</td>\n",
       "      <td>163</td>\n",
       "      <td>0.6</td>\n",
       "      <td>1</td>\n",
       "      <td>0</td>\n",
       "      <td>0</td>\n",
       "      <td>0</td>\n",
       "      <td>...</td>\n",
       "      <td>1</td>\n",
       "      <td>0</td>\n",
       "      <td>1</td>\n",
       "      <td>0</td>\n",
       "      <td>0</td>\n",
       "      <td>0</td>\n",
       "      <td>0</td>\n",
       "      <td>0</td>\n",
       "      <td>1</td>\n",
       "      <td>0</td>\n",
       "    </tr>\n",
       "  </tbody>\n",
       "</table>\n",
       "<p>5 rows × 23 columns</p>\n",
       "</div>"
      ],
      "text/plain": [
       "   age  sex  trestbps  chol  thalach  oldpeak  target  cp_1  cp_2  cp_3  ...  \\\n",
       "0   63    1       145   233      150      2.3       1     0     0     1  ...   \n",
       "1   37    1       130   250      187      3.5       1     0     1     0  ...   \n",
       "2   41    0       130   204      172      1.4       1     1     0     0  ...   \n",
       "3   56    1       120   236      178      0.8       1     1     0     0  ...   \n",
       "4   57    0       120   354      163      0.6       1     0     0     0  ...   \n",
       "\n",
       "   exang_1  slope_1  slope_2  ca_1  ca_2  ca_3  ca_4  thal_1  thal_2  thal_3  \n",
       "0        0        0        0     0     0     0     0       1       0       0  \n",
       "1        0        0        0     0     0     0     0       0       1       0  \n",
       "2        0        0        1     0     0     0     0       0       1       0  \n",
       "3        0        0        1     0     0     0     0       0       1       0  \n",
       "4        1        0        1     0     0     0     0       0       1       0  \n",
       "\n",
       "[5 rows x 23 columns]"
      ]
     },
     "execution_count": 54,
     "metadata": {},
     "output_type": "execute_result"
    }
   ],
   "source": [
    "dataset3.head()"
   ]
  },
  {
   "cell_type": "code",
   "execution_count": 55,
   "id": "249eb7b9",
   "metadata": {},
   "outputs": [],
   "source": [
    "#feature scaling\n",
    "from sklearn.preprocessing import StandardScaler"
   ]
  },
  {
   "cell_type": "code",
   "execution_count": 56,
   "id": "f2f9e504",
   "metadata": {},
   "outputs": [],
   "source": [
    "st = StandardScaler()\n",
    "dataset3[cont_val] = st.fit_transform(dataset3[cont_val])"
   ]
  },
  {
   "cell_type": "code",
   "execution_count": 57,
   "id": "5d8a6f59",
   "metadata": {
    "scrolled": true
   },
   "outputs": [
    {
     "data": {
      "text/html": [
       "<div>\n",
       "<style scoped>\n",
       "    .dataframe tbody tr th:only-of-type {\n",
       "        vertical-align: middle;\n",
       "    }\n",
       "\n",
       "    .dataframe tbody tr th {\n",
       "        vertical-align: top;\n",
       "    }\n",
       "\n",
       "    .dataframe thead th {\n",
       "        text-align: right;\n",
       "    }\n",
       "</style>\n",
       "<table border=\"1\" class=\"dataframe\">\n",
       "  <thead>\n",
       "    <tr style=\"text-align: right;\">\n",
       "      <th></th>\n",
       "      <th>age</th>\n",
       "      <th>sex</th>\n",
       "      <th>trestbps</th>\n",
       "      <th>chol</th>\n",
       "      <th>thalach</th>\n",
       "      <th>oldpeak</th>\n",
       "      <th>target</th>\n",
       "      <th>cp_1</th>\n",
       "      <th>cp_2</th>\n",
       "      <th>cp_3</th>\n",
       "      <th>...</th>\n",
       "      <th>exang_1</th>\n",
       "      <th>slope_1</th>\n",
       "      <th>slope_2</th>\n",
       "      <th>ca_1</th>\n",
       "      <th>ca_2</th>\n",
       "      <th>ca_3</th>\n",
       "      <th>ca_4</th>\n",
       "      <th>thal_1</th>\n",
       "      <th>thal_2</th>\n",
       "      <th>thal_3</th>\n",
       "    </tr>\n",
       "  </thead>\n",
       "  <tbody>\n",
       "    <tr>\n",
       "      <th>0</th>\n",
       "      <td>0.949794</td>\n",
       "      <td>1</td>\n",
       "      <td>0.764066</td>\n",
       "      <td>-0.261285</td>\n",
       "      <td>0.018826</td>\n",
       "      <td>1.084022</td>\n",
       "      <td>1</td>\n",
       "      <td>0</td>\n",
       "      <td>0</td>\n",
       "      <td>1</td>\n",
       "      <td>...</td>\n",
       "      <td>0</td>\n",
       "      <td>0</td>\n",
       "      <td>0</td>\n",
       "      <td>0</td>\n",
       "      <td>0</td>\n",
       "      <td>0</td>\n",
       "      <td>0</td>\n",
       "      <td>1</td>\n",
       "      <td>0</td>\n",
       "      <td>0</td>\n",
       "    </tr>\n",
       "    <tr>\n",
       "      <th>1</th>\n",
       "      <td>-1.928548</td>\n",
       "      <td>1</td>\n",
       "      <td>-0.091401</td>\n",
       "      <td>0.067741</td>\n",
       "      <td>1.636979</td>\n",
       "      <td>2.118926</td>\n",
       "      <td>1</td>\n",
       "      <td>0</td>\n",
       "      <td>1</td>\n",
       "      <td>0</td>\n",
       "      <td>...</td>\n",
       "      <td>0</td>\n",
       "      <td>0</td>\n",
       "      <td>0</td>\n",
       "      <td>0</td>\n",
       "      <td>0</td>\n",
       "      <td>0</td>\n",
       "      <td>0</td>\n",
       "      <td>0</td>\n",
       "      <td>1</td>\n",
       "      <td>0</td>\n",
       "    </tr>\n",
       "    <tr>\n",
       "      <th>2</th>\n",
       "      <td>-1.485726</td>\n",
       "      <td>0</td>\n",
       "      <td>-0.091401</td>\n",
       "      <td>-0.822564</td>\n",
       "      <td>0.980971</td>\n",
       "      <td>0.307844</td>\n",
       "      <td>1</td>\n",
       "      <td>1</td>\n",
       "      <td>0</td>\n",
       "      <td>0</td>\n",
       "      <td>...</td>\n",
       "      <td>0</td>\n",
       "      <td>0</td>\n",
       "      <td>1</td>\n",
       "      <td>0</td>\n",
       "      <td>0</td>\n",
       "      <td>0</td>\n",
       "      <td>0</td>\n",
       "      <td>0</td>\n",
       "      <td>1</td>\n",
       "      <td>0</td>\n",
       "    </tr>\n",
       "    <tr>\n",
       "      <th>3</th>\n",
       "      <td>0.174856</td>\n",
       "      <td>1</td>\n",
       "      <td>-0.661712</td>\n",
       "      <td>-0.203222</td>\n",
       "      <td>1.243374</td>\n",
       "      <td>-0.209608</td>\n",
       "      <td>1</td>\n",
       "      <td>1</td>\n",
       "      <td>0</td>\n",
       "      <td>0</td>\n",
       "      <td>...</td>\n",
       "      <td>0</td>\n",
       "      <td>0</td>\n",
       "      <td>1</td>\n",
       "      <td>0</td>\n",
       "      <td>0</td>\n",
       "      <td>0</td>\n",
       "      <td>0</td>\n",
       "      <td>0</td>\n",
       "      <td>1</td>\n",
       "      <td>0</td>\n",
       "    </tr>\n",
       "    <tr>\n",
       "      <th>4</th>\n",
       "      <td>0.285561</td>\n",
       "      <td>0</td>\n",
       "      <td>-0.661712</td>\n",
       "      <td>2.080602</td>\n",
       "      <td>0.587366</td>\n",
       "      <td>-0.382092</td>\n",
       "      <td>1</td>\n",
       "      <td>0</td>\n",
       "      <td>0</td>\n",
       "      <td>0</td>\n",
       "      <td>...</td>\n",
       "      <td>1</td>\n",
       "      <td>0</td>\n",
       "      <td>1</td>\n",
       "      <td>0</td>\n",
       "      <td>0</td>\n",
       "      <td>0</td>\n",
       "      <td>0</td>\n",
       "      <td>0</td>\n",
       "      <td>1</td>\n",
       "      <td>0</td>\n",
       "    </tr>\n",
       "  </tbody>\n",
       "</table>\n",
       "<p>5 rows × 23 columns</p>\n",
       "</div>"
      ],
      "text/plain": [
       "        age  sex  trestbps      chol   thalach   oldpeak  target  cp_1  cp_2  \\\n",
       "0  0.949794    1  0.764066 -0.261285  0.018826  1.084022       1     0     0   \n",
       "1 -1.928548    1 -0.091401  0.067741  1.636979  2.118926       1     0     1   \n",
       "2 -1.485726    0 -0.091401 -0.822564  0.980971  0.307844       1     1     0   \n",
       "3  0.174856    1 -0.661712 -0.203222  1.243374 -0.209608       1     1     0   \n",
       "4  0.285561    0 -0.661712  2.080602  0.587366 -0.382092       1     0     0   \n",
       "\n",
       "   cp_3  ...  exang_1  slope_1  slope_2  ca_1  ca_2  ca_3  ca_4  thal_1  \\\n",
       "0     1  ...        0        0        0     0     0     0     0       1   \n",
       "1     0  ...        0        0        0     0     0     0     0       0   \n",
       "2     0  ...        0        0        1     0     0     0     0       0   \n",
       "3     0  ...        0        0        1     0     0     0     0       0   \n",
       "4     0  ...        1        0        1     0     0     0     0       0   \n",
       "\n",
       "   thal_2  thal_3  \n",
       "0       0       0  \n",
       "1       1       0  \n",
       "2       1       0  \n",
       "3       1       0  \n",
       "4       1       0  \n",
       "\n",
       "[5 rows x 23 columns]"
      ]
     },
     "execution_count": 57,
     "metadata": {},
     "output_type": "execute_result"
    }
   ],
   "source": [
    "dataset3.head()"
   ]
  },
  {
   "cell_type": "code",
   "execution_count": 58,
   "id": "5df7289e",
   "metadata": {},
   "outputs": [
    {
     "data": {
      "text/plain": [
       "1    0.543046\n",
       "0    0.456954\n",
       "Name: target, dtype: float64"
      ]
     },
     "execution_count": 58,
     "metadata": {},
     "output_type": "execute_result"
    }
   ],
   "source": [
    "dataset3['target'].value_counts(normalize=True)\n"
   ]
  },
  {
   "cell_type": "code",
   "execution_count": 59,
   "id": "5249ad4b",
   "metadata": {},
   "outputs": [
    {
     "data": {
      "image/png": "[encoded data removed]",
      "text/plain": [
       "<Figure size 576x360 with 1 Axes>"
      ]
     },
     "metadata": {},
     "output_type": "display_data"
    }
   ],
   "source": [
    "dataset3['target'].value_counts(normalize=True)\n",
    "plt.figure(figsize=(8,5))\n",
    "dataset3['target'].value_counts().plot(kind='pie',autopct='%1.1f%%',labels=['No heart disease','heart disease'])\n",
    "plt.show()"
   ]
  },
  {
   "cell_type": "markdown",
   "id": "c75f6223",
   "metadata": {},
   "source": [
    "# dataset4\n"
   ]
  },
  {
   "cell_type": "code",
   "execution_count": 60,
   "id": "87f68894",
   "metadata": {},
   "outputs": [],
   "source": [
    "import pandas as pd\n",
    "import seaborn as sns\n",
    "import matplotlib.pyplot as plt"
   ]
  },
  {
   "cell_type": "code",
   "execution_count": 61,
   "id": "d1999b47",
   "metadata": {},
   "outputs": [],
   "source": [
    "dataset4 = pd.read_csv('heart (2).csv')"
   ]
  },
  {
   "cell_type": "code",
   "execution_count": 62,
   "id": "6af3d1d3",
   "metadata": {},
   "outputs": [
    {
     "data": {
      "text/plain": [
       "11016"
      ]
     },
     "execution_count": 62,
     "metadata": {},
     "output_type": "execute_result"
    }
   ],
   "source": [
    "dataset4.size"
   ]
  },
  {
   "cell_type": "code",
   "execution_count": 13,
   "id": "3cc7ee43",
   "metadata": {},
   "outputs": [
    {
     "data": {
      "text/plain": [
       "(918, 12)"
      ]
     },
     "execution_count": 13,
     "metadata": {},
     "output_type": "execute_result"
    }
   ],
   "source": [
    "dataset4.shape"
   ]
  },
  {
   "cell_type": "code",
   "execution_count": 63,
   "id": "bbb51008",
   "metadata": {},
   "outputs": [
    {
     "name": "stdout",
     "output_type": "stream",
     "text": [
      "<class 'pandas.core.frame.DataFrame'>\n",
      "RangeIndex: 918 entries, 0 to 917\n",
      "Data columns (total 12 columns):\n",
      " #   Column    Non-Null Count  Dtype  \n",
      "---  ------    --------------  -----  \n",
      " 0   Age       918 non-null    int64  \n",
      " 1   Sex       918 non-null    object \n",
      " 2   cp        918 non-null    object \n",
      " 3   trestbps  918 non-null    int64  \n",
      " 4   chol      918 non-null    int64  \n",
      " 5   fbs       918 non-null    int64  \n",
      " 6   restecg   918 non-null    object \n",
      " 7   thalach   918 non-null    int64  \n",
      " 8   exang     918 non-null    object \n",
      " 9   oldpeak   918 non-null    float64\n",
      " 10  slope     918 non-null    object \n",
      " 11  target    918 non-null    int64  \n",
      "dtypes: float64(1), int64(6), object(5)\n",
      "memory usage: 86.2+ KB\n"
     ]
    }
   ],
   "source": [
    "dataset4.info()"
   ]
  },
  {
   "cell_type": "code",
   "execution_count": 64,
   "id": "d239cffa",
   "metadata": {},
   "outputs": [
    {
     "data": {
      "text/plain": [
       "Age         0\n",
       "Sex         0\n",
       "cp          0\n",
       "trestbps    0\n",
       "chol        0\n",
       "fbs         0\n",
       "restecg     0\n",
       "thalach     0\n",
       "exang       0\n",
       "oldpeak     0\n",
       "slope       0\n",
       "target      0\n",
       "dtype: int64"
      ]
     },
     "execution_count": 64,
     "metadata": {},
     "output_type": "execute_result"
    }
   ],
   "source": [
    "dataset4.isnull().sum()"
   ]
  },
  {
   "cell_type": "code",
   "execution_count": 65,
   "id": "18f5ce30",
   "metadata": {},
   "outputs": [],
   "source": [
    "dataset4_dup = dataset4.duplicated().any()"
   ]
  },
  {
   "cell_type": "code",
   "execution_count": 66,
   "id": "547742e0",
   "metadata": {},
   "outputs": [
    {
     "data": {
      "text/plain": [
       "False"
      ]
     },
     "execution_count": 66,
     "metadata": {},
     "output_type": "execute_result"
    }
   ],
   "source": [
    "dataset4_dup"
   ]
  },
  {
   "cell_type": "code",
   "execution_count": 67,
   "id": "05081225",
   "metadata": {},
   "outputs": [],
   "source": [
    "dataset4 = dataset4.drop_duplicates()"
   ]
  },
  {
   "cell_type": "code",
   "execution_count": 68,
   "id": "4823e582",
   "metadata": {},
   "outputs": [],
   "source": [
    "dataset4_dup = dataset4.duplicated().any()"
   ]
  },
  {
   "cell_type": "code",
   "execution_count": 69,
   "id": "6d40343d",
   "metadata": {},
   "outputs": [
    {
     "data": {
      "text/plain": [
       "False"
      ]
     },
     "execution_count": 69,
     "metadata": {},
     "output_type": "execute_result"
    }
   ],
   "source": [
    "dataset4_dup"
   ]
  },
  {
   "cell_type": "code",
   "execution_count": 70,
   "id": "2c0ca0d5",
   "metadata": {},
   "outputs": [],
   "source": [
    "cate_val = []\n",
    "cont_val = []\n",
    "for column in dataset4.columns:\n",
    "    if dataset4[column].nunique() <=10:\n",
    "        cate_val.append(column)\n",
    "    else:\n",
    "        cont_val.append(column)"
   ]
  },
  {
   "cell_type": "code",
   "execution_count": 71,
   "id": "8a47ee66",
   "metadata": {},
   "outputs": [
    {
     "data": {
      "text/plain": [
       "['Sex', 'cp', 'fbs', 'restecg', 'exang', 'slope', 'target']"
      ]
     },
     "execution_count": 71,
     "metadata": {},
     "output_type": "execute_result"
    }
   ],
   "source": [
    "cate_val"
   ]
  },
  {
   "cell_type": "code",
   "execution_count": 72,
   "id": "88198dae",
   "metadata": {},
   "outputs": [
    {
     "data": {
      "text/plain": [
       "['Age', 'trestbps', 'chol', 'thalach', 'oldpeak']"
      ]
     },
     "execution_count": 72,
     "metadata": {},
     "output_type": "execute_result"
    }
   ],
   "source": [
    "cont_val"
   ]
  },
  {
   "cell_type": "code",
   "execution_count": 73,
   "id": "04bc7646",
   "metadata": {},
   "outputs": [
    {
     "data": {
      "text/plain": [
       "array(['ATA', 'NAP', 'ASY', 'TA'], dtype=object)"
      ]
     },
     "execution_count": 73,
     "metadata": {},
     "output_type": "execute_result"
    }
   ],
   "source": [
    "dataset4['cp'].unique()"
   ]
  },
  {
   "cell_type": "code",
   "execution_count": 74,
   "id": "5db55897",
   "metadata": {},
   "outputs": [],
   "source": [
    "cate_val.remove('target')\n",
    "dataset4 = pd.get_dummies(dataset4,columns = cate_val,drop_first=True)"
   ]
  },
  {
   "cell_type": "code",
   "execution_count": 75,
   "id": "4edfccd2",
   "metadata": {},
   "outputs": [
    {
     "data": {
      "text/plain": [
       "['Sex', 'cp', 'fbs', 'restecg', 'exang', 'slope']"
      ]
     },
     "execution_count": 75,
     "metadata": {},
     "output_type": "execute_result"
    }
   ],
   "source": [
    "cate_val"
   ]
  },
  {
   "cell_type": "code",
   "execution_count": 76,
   "id": "ba6050d1",
   "metadata": {},
   "outputs": [
    {
     "data": {
      "text/html": [
       "<div>\n",
       "<style scoped>\n",
       "    .dataframe tbody tr th:only-of-type {\n",
       "        vertical-align: middle;\n",
       "    }\n",
       "\n",
       "    .dataframe tbody tr th {\n",
       "        vertical-align: top;\n",
       "    }\n",
       "\n",
       "    .dataframe thead th {\n",
       "        text-align: right;\n",
       "    }\n",
       "</style>\n",
       "<table border=\"1\" class=\"dataframe\">\n",
       "  <thead>\n",
       "    <tr style=\"text-align: right;\">\n",
       "      <th></th>\n",
       "      <th>Age</th>\n",
       "      <th>trestbps</th>\n",
       "      <th>chol</th>\n",
       "      <th>thalach</th>\n",
       "      <th>oldpeak</th>\n",
       "      <th>target</th>\n",
       "      <th>Sex_1</th>\n",
       "      <th>Sex_F</th>\n",
       "      <th>Sex_M</th>\n",
       "      <th>cp_ATA</th>\n",
       "      <th>cp_NAP</th>\n",
       "      <th>cp_TA</th>\n",
       "      <th>fbs_1</th>\n",
       "      <th>restecg_Normal</th>\n",
       "      <th>restecg_ST</th>\n",
       "      <th>exang_Y</th>\n",
       "      <th>slope_Flat</th>\n",
       "      <th>slope_Up</th>\n",
       "    </tr>\n",
       "  </thead>\n",
       "  <tbody>\n",
       "    <tr>\n",
       "      <th>0</th>\n",
       "      <td>40</td>\n",
       "      <td>140</td>\n",
       "      <td>289</td>\n",
       "      <td>172</td>\n",
       "      <td>0.0</td>\n",
       "      <td>0</td>\n",
       "      <td>0</td>\n",
       "      <td>0</td>\n",
       "      <td>0</td>\n",
       "      <td>1</td>\n",
       "      <td>0</td>\n",
       "      <td>0</td>\n",
       "      <td>0</td>\n",
       "      <td>1</td>\n",
       "      <td>0</td>\n",
       "      <td>0</td>\n",
       "      <td>0</td>\n",
       "      <td>1</td>\n",
       "    </tr>\n",
       "    <tr>\n",
       "      <th>1</th>\n",
       "      <td>49</td>\n",
       "      <td>160</td>\n",
       "      <td>180</td>\n",
       "      <td>156</td>\n",
       "      <td>1.0</td>\n",
       "      <td>1</td>\n",
       "      <td>0</td>\n",
       "      <td>0</td>\n",
       "      <td>0</td>\n",
       "      <td>0</td>\n",
       "      <td>1</td>\n",
       "      <td>0</td>\n",
       "      <td>0</td>\n",
       "      <td>1</td>\n",
       "      <td>0</td>\n",
       "      <td>0</td>\n",
       "      <td>1</td>\n",
       "      <td>0</td>\n",
       "    </tr>\n",
       "    <tr>\n",
       "      <th>2</th>\n",
       "      <td>37</td>\n",
       "      <td>130</td>\n",
       "      <td>283</td>\n",
       "      <td>98</td>\n",
       "      <td>0.0</td>\n",
       "      <td>0</td>\n",
       "      <td>0</td>\n",
       "      <td>0</td>\n",
       "      <td>0</td>\n",
       "      <td>1</td>\n",
       "      <td>0</td>\n",
       "      <td>0</td>\n",
       "      <td>0</td>\n",
       "      <td>0</td>\n",
       "      <td>1</td>\n",
       "      <td>0</td>\n",
       "      <td>0</td>\n",
       "      <td>1</td>\n",
       "    </tr>\n",
       "    <tr>\n",
       "      <th>3</th>\n",
       "      <td>48</td>\n",
       "      <td>138</td>\n",
       "      <td>214</td>\n",
       "      <td>108</td>\n",
       "      <td>1.5</td>\n",
       "      <td>1</td>\n",
       "      <td>1</td>\n",
       "      <td>0</td>\n",
       "      <td>0</td>\n",
       "      <td>0</td>\n",
       "      <td>0</td>\n",
       "      <td>0</td>\n",
       "      <td>0</td>\n",
       "      <td>1</td>\n",
       "      <td>0</td>\n",
       "      <td>1</td>\n",
       "      <td>1</td>\n",
       "      <td>0</td>\n",
       "    </tr>\n",
       "    <tr>\n",
       "      <th>4</th>\n",
       "      <td>54</td>\n",
       "      <td>150</td>\n",
       "      <td>195</td>\n",
       "      <td>122</td>\n",
       "      <td>0.0</td>\n",
       "      <td>0</td>\n",
       "      <td>0</td>\n",
       "      <td>0</td>\n",
       "      <td>0</td>\n",
       "      <td>0</td>\n",
       "      <td>1</td>\n",
       "      <td>0</td>\n",
       "      <td>0</td>\n",
       "      <td>1</td>\n",
       "      <td>0</td>\n",
       "      <td>0</td>\n",
       "      <td>0</td>\n",
       "      <td>1</td>\n",
       "    </tr>\n",
       "  </tbody>\n",
       "</table>\n",
       "</div>"
      ],
      "text/plain": [
       "   Age  trestbps  chol  thalach  oldpeak  target  Sex_1  Sex_F  Sex_M  cp_ATA  \\\n",
       "0   40       140   289      172      0.0       0      0      0      0       1   \n",
       "1   49       160   180      156      1.0       1      0      0      0       0   \n",
       "2   37       130   283       98      0.0       0      0      0      0       1   \n",
       "3   48       138   214      108      1.5       1      1      0      0       0   \n",
       "4   54       150   195      122      0.0       0      0      0      0       0   \n",
       "\n",
       "   cp_NAP  cp_TA  fbs_1  restecg_Normal  restecg_ST  exang_Y  slope_Flat  \\\n",
       "0       0      0      0               1           0        0           0   \n",
       "1       1      0      0               1           0        0           1   \n",
       "2       0      0      0               0           1        0           0   \n",
       "3       0      0      0               1           0        1           1   \n",
       "4       1      0      0               1           0        0           0   \n",
       "\n",
       "   slope_Up  \n",
       "0         1  \n",
       "1         0  \n",
       "2         1  \n",
       "3         0  \n",
       "4         1  "
      ]
     },
     "execution_count": 76,
     "metadata": {},
     "output_type": "execute_result"
    }
   ],
   "source": [
    "dataset4.head()"
   ]
  },
  {
   "cell_type": "code",
   "execution_count": 77,
   "id": "9617bc54",
   "metadata": {},
   "outputs": [],
   "source": [
    "#feature Scaling\n",
    "from sklearn.preprocessing import StandardScaler"
   ]
  },
  {
   "cell_type": "code",
   "execution_count": 78,
   "id": "c7566a8d",
   "metadata": {},
   "outputs": [],
   "source": [
    "st = StandardScaler()\n",
    "dataset4[cont_val] = st.fit_transform(dataset4[cont_val])"
   ]
  },
  {
   "cell_type": "code",
   "execution_count": 79,
   "id": "6614a95e",
   "metadata": {},
   "outputs": [
    {
     "data": {
      "text/html": [
       "<div>\n",
       "<style scoped>\n",
       "    .dataframe tbody tr th:only-of-type {\n",
       "        vertical-align: middle;\n",
       "    }\n",
       "\n",
       "    .dataframe tbody tr th {\n",
       "        vertical-align: top;\n",
       "    }\n",
       "\n",
       "    .dataframe thead th {\n",
       "        text-align: right;\n",
       "    }\n",
       "</style>\n",
       "<table border=\"1\" class=\"dataframe\">\n",
       "  <thead>\n",
       "    <tr style=\"text-align: right;\">\n",
       "      <th></th>\n",
       "      <th>Age</th>\n",
       "      <th>trestbps</th>\n",
       "      <th>chol</th>\n",
       "      <th>thalach</th>\n",
       "      <th>oldpeak</th>\n",
       "      <th>target</th>\n",
       "      <th>Sex_1</th>\n",
       "      <th>Sex_F</th>\n",
       "      <th>Sex_M</th>\n",
       "      <th>cp_ATA</th>\n",
       "      <th>cp_NAP</th>\n",
       "      <th>cp_TA</th>\n",
       "      <th>fbs_1</th>\n",
       "      <th>restecg_Normal</th>\n",
       "      <th>restecg_ST</th>\n",
       "      <th>exang_Y</th>\n",
       "      <th>slope_Flat</th>\n",
       "      <th>slope_Up</th>\n",
       "    </tr>\n",
       "  </thead>\n",
       "  <tbody>\n",
       "    <tr>\n",
       "      <th>0</th>\n",
       "      <td>-1.433140</td>\n",
       "      <td>0.410909</td>\n",
       "      <td>0.825070</td>\n",
       "      <td>1.382928</td>\n",
       "      <td>-0.832432</td>\n",
       "      <td>0</td>\n",
       "      <td>0</td>\n",
       "      <td>0</td>\n",
       "      <td>0</td>\n",
       "      <td>1</td>\n",
       "      <td>0</td>\n",
       "      <td>0</td>\n",
       "      <td>0</td>\n",
       "      <td>1</td>\n",
       "      <td>0</td>\n",
       "      <td>0</td>\n",
       "      <td>0</td>\n",
       "      <td>1</td>\n",
       "    </tr>\n",
       "    <tr>\n",
       "      <th>1</th>\n",
       "      <td>-0.478484</td>\n",
       "      <td>1.491752</td>\n",
       "      <td>-0.171961</td>\n",
       "      <td>0.754157</td>\n",
       "      <td>0.105664</td>\n",
       "      <td>1</td>\n",
       "      <td>0</td>\n",
       "      <td>0</td>\n",
       "      <td>0</td>\n",
       "      <td>0</td>\n",
       "      <td>1</td>\n",
       "      <td>0</td>\n",
       "      <td>0</td>\n",
       "      <td>1</td>\n",
       "      <td>0</td>\n",
       "      <td>0</td>\n",
       "      <td>1</td>\n",
       "      <td>0</td>\n",
       "    </tr>\n",
       "    <tr>\n",
       "      <th>2</th>\n",
       "      <td>-1.751359</td>\n",
       "      <td>-0.129513</td>\n",
       "      <td>0.770188</td>\n",
       "      <td>-1.525138</td>\n",
       "      <td>-0.832432</td>\n",
       "      <td>0</td>\n",
       "      <td>0</td>\n",
       "      <td>0</td>\n",
       "      <td>0</td>\n",
       "      <td>1</td>\n",
       "      <td>0</td>\n",
       "      <td>0</td>\n",
       "      <td>0</td>\n",
       "      <td>0</td>\n",
       "      <td>1</td>\n",
       "      <td>0</td>\n",
       "      <td>0</td>\n",
       "      <td>1</td>\n",
       "    </tr>\n",
       "    <tr>\n",
       "      <th>3</th>\n",
       "      <td>-0.584556</td>\n",
       "      <td>0.302825</td>\n",
       "      <td>0.139040</td>\n",
       "      <td>-1.132156</td>\n",
       "      <td>0.574711</td>\n",
       "      <td>1</td>\n",
       "      <td>1</td>\n",
       "      <td>0</td>\n",
       "      <td>0</td>\n",
       "      <td>0</td>\n",
       "      <td>0</td>\n",
       "      <td>0</td>\n",
       "      <td>0</td>\n",
       "      <td>1</td>\n",
       "      <td>0</td>\n",
       "      <td>1</td>\n",
       "      <td>1</td>\n",
       "      <td>0</td>\n",
       "    </tr>\n",
       "    <tr>\n",
       "      <th>4</th>\n",
       "      <td>0.051881</td>\n",
       "      <td>0.951331</td>\n",
       "      <td>-0.034755</td>\n",
       "      <td>-0.581981</td>\n",
       "      <td>-0.832432</td>\n",
       "      <td>0</td>\n",
       "      <td>0</td>\n",
       "      <td>0</td>\n",
       "      <td>0</td>\n",
       "      <td>0</td>\n",
       "      <td>1</td>\n",
       "      <td>0</td>\n",
       "      <td>0</td>\n",
       "      <td>1</td>\n",
       "      <td>0</td>\n",
       "      <td>0</td>\n",
       "      <td>0</td>\n",
       "      <td>1</td>\n",
       "    </tr>\n",
       "  </tbody>\n",
       "</table>\n",
       "</div>"
      ],
      "text/plain": [
       "        Age  trestbps      chol   thalach   oldpeak  target  Sex_1  Sex_F  \\\n",
       "0 -1.433140  0.410909  0.825070  1.382928 -0.832432       0      0      0   \n",
       "1 -0.478484  1.491752 -0.171961  0.754157  0.105664       1      0      0   \n",
       "2 -1.751359 -0.129513  0.770188 -1.525138 -0.832432       0      0      0   \n",
       "3 -0.584556  0.302825  0.139040 -1.132156  0.574711       1      1      0   \n",
       "4  0.051881  0.951331 -0.034755 -0.581981 -0.832432       0      0      0   \n",
       "\n",
       "   Sex_M  cp_ATA  cp_NAP  cp_TA  fbs_1  restecg_Normal  restecg_ST  exang_Y  \\\n",
       "0      0       1       0      0      0               1           0        0   \n",
       "1      0       0       1      0      0               1           0        0   \n",
       "2      0       1       0      0      0               0           1        0   \n",
       "3      0       0       0      0      0               1           0        1   \n",
       "4      0       0       1      0      0               1           0        0   \n",
       "\n",
       "   slope_Flat  slope_Up  \n",
       "0           0         1  \n",
       "1           1         0  \n",
       "2           0         1  \n",
       "3           1         0  \n",
       "4           0         1  "
      ]
     },
     "execution_count": 79,
     "metadata": {},
     "output_type": "execute_result"
    }
   ],
   "source": [
    "dataset4.head()"
   ]
  },
  {
   "cell_type": "code",
   "execution_count": 80,
   "id": "500d7de7",
   "metadata": {},
   "outputs": [
    {
     "data": {
      "image/png": "[encoded data removed]",
      "text/plain": [
       "<Figure size 576x360 with 1 Axes>"
      ]
     },
     "metadata": {},
     "output_type": "display_data"
    }
   ],
   "source": [
    "dataset4['target'].value_counts(normalize=True)\n",
    "plt.figure(figsize=(8,5))\n",
    "dataset4['target'].value_counts().plot(kind='pie',autopct='%1.1f%%',labels=['No heart disease','heart disease'])\n",
    "plt.show()"
   ]
  },
  {
   "cell_type": "code",
   "execution_count": null,
   "id": "b8d0c794",
   "metadata": {},
   "outputs": [],
   "source": []
  },
  {
   "cell_type": "code",
   "execution_count": null,
   "id": "cfaa8c9c",
   "metadata": {},
   "outputs": [],
   "source": []
  },
  {
   "cell_type": "code",
   "execution_count": 81,
   "id": "f51e31e2",
   "metadata": {},
   "outputs": [],
   "source": [
    "# Separate features and target variable\n",
    "X1 = dataset1.iloc[:, :-1]  # Features for dataset 1\n",
    "y1 = dataset1.iloc[:, -1]   # Target variable for dataset 1\n",
    "\n",
    "X2 = dataset2.iloc[:, :-1]  # Features for dataset 2\n",
    "y2 = dataset2.iloc[:, -1]   # Target variable for dataset 2\n",
    "\n",
    "X3 = dataset3.iloc[:, :-1]  # Features for dataset 3\n",
    "y3 = dataset3.iloc[:, -1]   # Target variable for dataset 3\n",
    "\n",
    "X4 = dataset4.iloc[:, :-1]  # Features for dataset 4\n",
    "y4 = dataset4.iloc[:, -1]   # Target variable for dataset 4"
   ]
  },
  {
   "cell_type": "code",
   "execution_count": 82,
   "id": "54437a19",
   "metadata": {},
   "outputs": [
    {
     "name": "stdout",
     "output_type": "stream",
     "text": [
      "Results for Dataset 1:\n",
      "Accuracy: 0.9836065573770492\n",
      "Precision: 0.96\n",
      "Recall: 1.0\n",
      "f1_score: 0.9795918367346939\n",
      "\n",
      "Results for Dataset 2:\n",
      "Accuracy: 1.0\n",
      "Precision: 1.0\n",
      "Recall: 1.0\n",
      "f1_score: 1.0\n",
      "\n",
      "Results for Dataset 3:\n",
      "Accuracy: 0.9836065573770492\n",
      "Precision: 0.96\n",
      "Recall: 1.0\n",
      "f1_score: 0.9795918367346939\n",
      "\n",
      "Results for Dataset 4:\n",
      "Accuracy: 0.9510869565217391\n",
      "Precision: 0.9340659340659341\n",
      "Recall: 0.9659090909090909\n",
      "f1_score: 0.9497206703910613\n"
     ]
    }
   ],
   "source": [
    "from sklearn.linear_model import LogisticRegression\n",
    "from sklearn.model_selection import train_test_split\n",
    "from sklearn.metrics import accuracy_score, precision_score, recall_score,f1_score\n",
    "\n",
    "# Split the datasets into training and testing sets\n",
    "X1_train, X1_test, y1_train, y1_test = train_test_split(X1, y1, test_size=0.2, random_state=42)\n",
    "X2_train, X2_test, y2_train, y2_test = train_test_split(X2, y2, test_size=0.2, random_state=42)\n",
    "X3_train, X3_test, y3_train, y3_test = train_test_split(X3, y3, test_size=0.2, random_state=42)\n",
    "X4_train, X4_test, y4_train, y4_test = train_test_split(X4, y4, test_size=0.2, random_state=42)\n",
    "\n",
    "\n",
    "# Train the logistic regression models\n",
    "model1 = LogisticRegression()\n",
    "model1.fit(X1_train, y1_train)\n",
    "\n",
    "model2 = LogisticRegression()\n",
    "model2.fit(X2_train, y2_train)\n",
    "\n",
    "model3 = LogisticRegression()\n",
    "model3.fit(X3_train, y3_train)\n",
    "\n",
    "model4 = LogisticRegression()\n",
    "model4.fit(X4_train, y4_train)\n",
    "\n",
    "# Make predictions on the test sets\n",
    "y1_pred = model1.predict(X1_test)\n",
    "y2_pred = model2.predict(X2_test)\n",
    "y3_pred = model3.predict(X3_test)\n",
    "y4_pred = model4.predict(X4_test)\n",
    "\n",
    "# Calculate accuracy, precision, and recall for each dataset\n",
    "accuracy1 = accuracy_score(y1_test, y1_pred)\n",
    "precision1 = precision_score(y1_test, y1_pred)\n",
    "recall1 = recall_score(y1_test, y1_pred)\n",
    "f1_score1 =f1_score(y1_test,y1_pred)\n",
    "\n",
    "accuracy2 = accuracy_score(y2_test, y2_pred)\n",
    "precision2 = precision_score(y2_test, y2_pred)\n",
    "recall2 = recall_score(y2_test, y2_pred)\n",
    "f1_score2 = f1_score(y2_test, y2_pred)\n",
    "\n",
    "accuracy3 = accuracy_score(y3_test, y3_pred)\n",
    "precision3 = precision_score(y3_test, y3_pred)\n",
    "recall3 = recall_score(y3_test, y3_pred)\n",
    "f1_score3 = f1_score(y3_test,y3_pred)\n",
    "\n",
    "accuracy4 = accuracy_score(y4_test, y4_pred)\n",
    "precision4 = precision_score(y4_test, y4_pred)\n",
    "recall4 = recall_score(y4_test, y4_pred)\n",
    "f1_score4 = f1_score(y4_test,y4_pred)\n",
    "\n",
    "\n",
    "# Print the results\n",
    "print(\"Results for Dataset 1:\")\n",
    "print(\"Accuracy:\", accuracy1)\n",
    "print(\"Precision:\", precision1)\n",
    "print(\"Recall:\", recall1)\n",
    "print(\"f1_score:\",f1_score1)\n",
    "\n",
    "print(\"\\nResults for Dataset 2:\")\n",
    "print(\"Accuracy:\", accuracy2)\n",
    "print(\"Precision:\", precision2)\n",
    "print(\"Recall:\", recall2)\n",
    "print(\"f1_score:\",f1_score2)\n",
    "\n",
    "print(\"\\nResults for Dataset 3:\")\n",
    "print(\"Accuracy:\", accuracy3)\n",
    "print(\"Precision:\", precision3)\n",
    "print(\"Recall:\", recall3)\n",
    "print(\"f1_score:\",f1_score3)\n",
    "\n",
    "print(\"\\nResults for Dataset 4:\")\n",
    "print(\"Accuracy:\", accuracy4)\n",
    "print(\"Precision:\", precision4)\n",
    "print(\"Recall:\", recall4)\n",
    "print(\"f1_score:\",f1_score4)"
   ]
  },
  {
   "cell_type": "code",
   "execution_count": 83,
   "id": "0001c555",
   "metadata": {},
   "outputs": [],
   "source": [
    "import matplotlib.pyplot as plt\n",
    "import numpy as np\n"
   ]
  },
  {
   "cell_type": "code",
   "execution_count": 84,
   "id": "07debe3f",
   "metadata": {},
   "outputs": [
    {
     "data": {
      "image/png": "[encoded data removed]",
      "text/plain": [
       "<Figure size 432x288 with 1 Axes>"
      ]
     },
     "metadata": {
      "needs_background": "light"
     },
     "output_type": "display_data"
    }
   ],
   "source": [
    "datasets = ['Dataset 1', 'Dataset 2', 'Dataset 3','Dataset 4']\n",
    "accuracies = [0.98, 1.0 ,0.98, 0.95]\n",
    "plt.bar(datasets, accuracies)\n",
    "plt.ylabel('Datasets')\n",
    "plt.xlabel('Accuracies')\n",
    "plt.title('Accuracy of LogisticRegression using Different Datasets')\n",
    "plt.ylim([0, 1])  # Set the y-axis limits\n",
    "plt.show()"
   ]
  },
  {
   "cell_type": "code",
   "execution_count": 85,
   "id": "2a6b9602",
   "metadata": {},
   "outputs": [
    {
     "data": {
      "image/png": "[encoded data removed]",
      "text/plain": [
       "<Figure size 432x288 with 1 Axes>"
      ]
     },
     "metadata": {
      "needs_background": "light"
     },
     "output_type": "display_data"
    }
   ],
   "source": [
    "datasets = ['Dataset 1', 'Dataset 2', 'Dataset 3','Dataset 4']\n",
    "precision = [0.87, 0.76, 0.87, 0.96]\n",
    "plt.bar(datasets, precision)\n",
    "plt.xlabel('Datasets')\n",
    "plt.ylabel('precision')\n",
    "plt.title('precision of Logisticregression using Different Datasets')\n",
    "plt.ylim([0, 1])  # Set the y-axis limits\n",
    "plt.show()"
   ]
  },
  {
   "cell_type": "code",
   "execution_count": 86,
   "id": "688cb2c5",
   "metadata": {},
   "outputs": [
    {
     "data": {
      "image/png": "[encoded data removed]",
      "text/plain": [
       "<Figure size 432x288 with 1 Axes>"
      ]
     },
     "metadata": {
      "needs_background": "light"
     },
     "output_type": "display_data"
    }
   ],
   "source": [
    "recall = [0.90, 0.93, 0.90 ,0.96]\n",
    "plt.bar(datasets, recall)\n",
    "plt.xlabel('Datasets')\n",
    "plt.ylabel('recall')\n",
    "plt.title('recall of Logisticregression using Different Datasets')\n",
    "plt.ylim([0, 1])  # Set the y-axis limits\n",
    "plt.show()"
   ]
  },
  {
   "cell_type": "code",
   "execution_count": 87,
   "id": "e8693f95",
   "metadata": {},
   "outputs": [
    {
     "data": {
      "image/png": "[encoded data removed]",
      "text/plain": [
       "<Figure size 432x288 with 1 Axes>"
      ]
     },
     "metadata": {
      "needs_background": "light"
     },
     "output_type": "display_data"
    }
   ],
   "source": [
    "f1_score = [0.97, 1.0, 0.97 ,0.94]\n",
    "plt.bar(datasets, f1_score)\n",
    "plt.xlabel('Datasets')\n",
    "plt.ylabel('f1_score')\n",
    "plt.title('f1_score of Logisticregression using Different Datasets')\n",
    "plt.ylim([0, 1])  # Set the y-axis limits\n",
    "plt.show()"
   ]
  },
  {
   "cell_type": "code",
   "execution_count": 90,
   "id": "0459d1c4",
   "metadata": {},
   "outputs": [
    {
     "data": {
      "image/png": "[encoded data removed]",
      "text/plain": [
       "<Figure size 720x360 with 1 Axes>"
      ]
     },
     "metadata": {
      "needs_background": "light"
     },
     "output_type": "display_data"
    }
   ],
   "source": [
    "# Create lists of scores for plotting\n",
    "datasets = ['Dataset1', 'Dataset2', 'Dataset3', 'Dataset4']\n",
    "accuracies = [accuracy1, accuracy2, accuracy3 , accuracy4]\n",
    "precisions = [precision1, precision2, precision3, precision4]\n",
    "recalls = [recall1, recall2, recall3, recall4]\n",
    "f1_score =[f1_score1,f1_score2,f1_score3, f1_score4]\n",
    "\n",
    "# Plot the scores\n",
    "plt.figure(figsize=(10, 5))\n",
    "plt.plot(datasets, accuracies, label='Accuracy')\n",
    "plt.plot(datasets, precisions, label='Precision')\n",
    "plt.plot(datasets, recalls, label='Recall')\n",
    "plt.plot(datasets,f1_score,label='f1_score')\n",
    "plt.xlabel('Datasets')\n",
    "plt.ylabel('Score')\n",
    "plt.title('Logistic Regression Scores for Heart Disease Prediction')\n",
    "plt.legend()\n",
    "plt.show()\n"
   ]
  },
  {
   "cell_type": "markdown",
   "id": "046d3f5f",
   "metadata": {},
   "source": [
    "# kNN\n"
   ]
  },
  {
   "cell_type": "code",
   "execution_count": 111,
   "id": "518ce0c8",
   "metadata": {},
   "outputs": [
    {
     "name": "stdout",
     "output_type": "stream",
     "text": [
      "Accuracy of dataset1: 0.8032786885245902\n",
      "Accuracy of dataset2: 0.7213114754098361\n",
      "Accuracy of dataset3: 0.8032786885245902\n",
      "Accuracy of dataset4: 0.907608695652174\n",
      ".............................\n",
      "precision of dataset1: 0.7\n",
      "precision  of dataset2: 0.6\n",
      "precision  of dataset3: 0.7\n",
      "precision  of dataset4: 0.9382716049382716\n",
      ".............................\n",
      "recall of dataset1: 0.875\n",
      "recall of dataset2: 0.782608695652174\n",
      "recall of dataset3: 0.875\n",
      "recall of dataset4: 0.8636363636363636\n",
      ".............................\n",
      "F1_score of dataset1: 0.7777777777777777\n",
      "F1_score of dataset2: 0.6792452830188679\n",
      "F1_score of dataset3: 0.7777777777777777\n",
      "F1_score of dataset4: 0.8994082840236687\n"
     ]
    }
   ],
   "source": [
    "from sklearn.neighbors import KNeighborsClassifier\n",
    "from sklearn.model_selection import train_test_split\n",
    "from sklearn.metrics import accuracy_score, precision_score, recall_score, f1_score\n",
    "\n",
    "\n",
    "X1_train, X1_test, y1_train, y1_test = train_test_split(X1,y1, test_size=0.2, random_state=42)\n",
    "X2_train, X2_test, y2_train, y2_test = train_test_split(X2,y2, test_size=0.2, random_state=42)\n",
    "X3_train, X3_test, y3_train, y3_test = train_test_split(X3,y3, test_size=0.2, random_state=42)\n",
    "X4_train, X4_test, y4_train, y4_test = train_test_split(X4,y4, test_size=0.2, random_state=42)\n",
    "\n",
    "# Train the KNN model\n",
    "knn1 = KNeighborsClassifier(n_neighbors=5) \n",
    "knn1.fit(X1_train, y1_train)\n",
    "\n",
    "knn2 = KNeighborsClassifier(n_neighbors=5)\n",
    "knn2.fit(X2_train, y2_train)\n",
    "\n",
    "knn3 = KNeighborsClassifier(n_neighbors=5)\n",
    "knn3.fit(X3_train, y3_train)\n",
    "\n",
    "knn4 = KNeighborsClassifier(n_neighbors=5)\n",
    "knn4.fit(X4_train, y4_train)\n",
    "\n",
    "\n",
    "\n",
    "# Predict using the testing set\n",
    "y1_pred = knn1.predict(X1_test)\n",
    "y2_pred = knn2.predict(X2_test)\n",
    "y3_pred = knn3.predict(X3_test)\n",
    "y4_pred = knn4.predict(X4_test)\n",
    "\n",
    "\n",
    "\n",
    "# Calculate metrics\n",
    "accuracy1 = accuracy_score(y1_test, y1_pred)\n",
    "accuracy2 = accuracy_score(y2_test, y2_pred)\n",
    "accuracy3 = accuracy_score(y3_test, y3_pred)\n",
    "accuracy4 = accuracy_score(y4_test, y4_pred)\n",
    "\n",
    "precision1 = precision_score(y1_test,y1_pred)\n",
    "precision2 = precision_score(y2_test,y2_pred)\n",
    "precision3 = precision_score(y3_test,y3_pred)\n",
    "precision4 = precision_score(y4_test,y4_pred)\n",
    "\n",
    "\n",
    "\n",
    "recall1 = recall_score(y1_test,y1_pred)\n",
    "recall2 = recall_score(y2_test,y2_pred)\n",
    "recall3 = recall_score(y3_test,y3_pred)\n",
    "recall4 = recall_score(y4_test,y4_pred)\n",
    "\n",
    "\n",
    "f1_score1 = f1_score(y1_test, y1_pred) \n",
    "f1_score2 = f1_score(y2_test, y2_pred)\n",
    "f1_score3 = f1_score(y3_test, y3_pred)\n",
    "f1_score4 = f1_score(y4_test, y4_pred)\n",
    "\n",
    "\n",
    "# Print the metrics\n",
    "print(\"Accuracy of dataset1:\", accuracy1)\n",
    "print(\"Accuracy of dataset2:\", accuracy2)\n",
    "print(\"Accuracy of dataset3:\", accuracy3)\n",
    "print(\"Accuracy of dataset4:\", accuracy4)\n",
    "\n",
    "print(\".............................\")\n",
    "\n",
    "print(\"precision of dataset1:\", precision1)\n",
    "print(\"precision  of dataset2:\", precision2)\n",
    "print(\"precision  of dataset3:\", precision3)\n",
    "print(\"precision  of dataset4:\", precision4)\n",
    "\n",
    "print(\".............................\")\n",
    "\n",
    "print(\"recall of dataset1:\", recall1)\n",
    "print(\"recall of dataset2:\", recall2)\n",
    "print(\"recall of dataset3:\", recall3)\n",
    "print(\"recall of dataset4:\", recall4)\n",
    "\n",
    "\n",
    "print(\".............................\")\n",
    "print('F1_score of dataset1:',f1_score1)\n",
    "print('F1_score of dataset2:',f1_score2)\n",
    "print('F1_score of dataset3:',f1_score3)\n",
    "print('F1_score of dataset4:',f1_score4)\n",
    "\n"
   ]
  },
  {
   "cell_type": "code",
   "execution_count": 112,
   "id": "eaeaff14",
   "metadata": {},
   "outputs": [],
   "source": [
    "import matplotlib.pyplot as plt\n",
    "import numpy as np\n"
   ]
  },
  {
   "cell_type": "code",
   "execution_count": 115,
   "id": "e917c3a7",
   "metadata": {},
   "outputs": [],
   "source": [
    "datasets = ['Dataset 1', 'Dataset 2', 'Dataset 3', 'Dataset4']\n",
    "accuracies = [0.86, 0.73, 0.86, 0.90]"
   ]
  },
  {
   "cell_type": "code",
   "execution_count": 116,
   "id": "9eeb05e9",
   "metadata": {},
   "outputs": [
    {
     "data": {
      "image/png": "[encoded data removed]",
      "text/plain": [
       "<Figure size 432x288 with 1 Axes>"
      ]
     },
     "metadata": {
      "needs_background": "light"
     },
     "output_type": "display_data"
    }
   ],
   "source": [
    "plt.bar(datasets, accuracies)\n",
    "plt.xlabel('Datasets')\n",
    "plt.ylabel('Accuracies')\n",
    "plt.title('Accuracy of KNN using Different Datasets')\n",
    "plt.ylim([0, 1])  # Set the y-axis limits\n",
    "plt.show()\n"
   ]
  },
  {
   "cell_type": "code",
   "execution_count": 118,
   "id": "aaa42c92",
   "metadata": {},
   "outputs": [
    {
     "data": {
      "image/png": "[encoded data removed]",
      "text/plain": [
       "<Figure size 432x288 with 1 Axes>"
      ]
     },
     "metadata": {
      "needs_background": "light"
     },
     "output_type": "display_data"
    }
   ],
   "source": [
    "precision = [0.90, 0.67,0.90, 0.93]\n",
    "plt.bar(datasets, precision)\n",
    "plt.xlabel('Datasets')\n",
    "plt.ylabel('precision')\n",
    "plt.title('precision of KNN using Different Datasets')\n",
    "plt.ylim([0, 1])  # Set the y-axis limits\n",
    "plt.show()"
   ]
  },
  {
   "cell_type": "code",
   "execution_count": 119,
   "id": "cf5ed451",
   "metadata": {},
   "outputs": [
    {
     "data": {
      "image/png": "[encoded data removed]",
      "text/plain": [
       "<Figure size 432x288 with 1 Axes>"
      ]
     },
     "metadata": {
      "needs_background": "light"
     },
     "output_type": "display_data"
    }
   ],
   "source": [
    "recall = [0.86, 0.84, 0.86, 0.86]\n",
    "plt.bar(datasets, recall)\n",
    "plt.xlabel('Datasets')\n",
    "plt.ylabel('recall')\n",
    "plt.title('recall of KNN using Different Datasets')\n",
    "plt.ylim([0, 1])  # Set the y-axis limits\n",
    "plt.show()"
   ]
  },
  {
   "cell_type": "code",
   "execution_count": 133,
   "id": "79ca32ce",
   "metadata": {},
   "outputs": [
    {
     "data": {
      "image/png": "[encoded data removed]",
      "text/plain": [
       "<Figure size 432x288 with 1 Axes>"
      ]
     },
     "metadata": {
      "needs_background": "light"
     },
     "output_type": "display_data"
    }
   ],
   "source": [
    "f1_score = [0.77, 0.67, 0.77, 0.89]\n",
    "plt.bar(datasets, f1_score)\n",
    "plt.xlabel('Datasets')\n",
    "plt.ylabel('f1_score')\n",
    "plt.title('f1_score of KNN using Different Datasets')\n",
    "plt.ylim([0, 1])  # Set the y-axis limits\n",
    "plt.show()"
   ]
  },
  {
   "cell_type": "code",
   "execution_count": 122,
   "id": "dedc4e6f",
   "metadata": {},
   "outputs": [
    {
     "data": {
      "image/png": "[encoded data removed]",
      "text/plain": [
       "<Figure size 720x360 with 1 Axes>"
      ]
     },
     "metadata": {
      "needs_background": "light"
     },
     "output_type": "display_data"
    }
   ],
   "source": [
    "# Create lists of scores for plotting\n",
    "datasets = ['Dataset1', 'Dataset2', 'Dataset3', 'Dataset4']\n",
    "accuracies = [accuracy1, accuracy2, accuracy3, accuracy4]\n",
    "precisions = [precision1, precision2, precision3, precision4]\n",
    "recalls = [recall1, recall2, recall3, recall4]\n",
    "f1_score =[f1_score1,f1_score2,f1_score3, f1_score4]\n",
    "\n",
    "# Plot the scores\n",
    "plt.figure(figsize=(10, 5))\n",
    "plt.plot(datasets, accuracies, label='Accuracy')\n",
    "plt.plot(datasets, precisions, label='Precision')\n",
    "plt.plot(datasets, recalls, label='Recall')\n",
    "plt.plot(datasets,f1_score,label='f1_score')\n",
    "plt.xlabel('Datasets')\n",
    "plt.ylabel('Score')\n",
    "plt.title('KNN Scores for Heart Disease Prediction')\n",
    "plt.legend()\n",
    "plt.show()"
   ]
  },
  {
   "cell_type": "markdown",
   "id": "8fd3e256",
   "metadata": {},
   "source": [
    "# Decision tree"
   ]
  },
  {
   "cell_type": "code",
   "execution_count": 96,
   "id": "85e012c7",
   "metadata": {},
   "outputs": [],
   "source": [
    "from sklearn.tree import DecisionTreeClassifier\n",
    "from sklearn.model_selection import train_test_split\n",
    "from sklearn.metrics import accuracy_score, precision_score, recall_score, f1_score\n",
    "\n",
    "\n",
    "# Split the datasets into training and testing sets\n",
    "X1_train, X1_test, y1_train, y1_test = train_test_split(dataset1.drop('target', axis=1), dataset1['target'], test_size=0.2, random_state=42)\n",
    "X2_train, X2_test, y2_train, y2_test = train_test_split(dataset2.drop('target', axis=1), dataset2['target'], test_size=0.2, random_state=42)\n",
    "X3_train, X3_test, y3_train, y3_test = train_test_split(dataset3.drop('target', axis=1), dataset3['target'], test_size=0.2, random_state=42)\n",
    "X4_train, X4_test, y4_train, y4_test = train_test_split(dataset4.drop('target', axis=1), dataset4['target'], test_size=0.2, random_state=42)\n"
   ]
  },
  {
   "cell_type": "code",
   "execution_count": 97,
   "id": "bd2980c4",
   "metadata": {},
   "outputs": [
    {
     "data": {
      "text/plain": [
       "DecisionTreeClassifier()"
      ]
     },
     "execution_count": 97,
     "metadata": {},
     "output_type": "execute_result"
    }
   ],
   "source": [
    "# Create decision tree classifiers and fit them on the training sets\n",
    "dt1 = DecisionTreeClassifier()\n",
    "dt1.fit(X1_train, y1_train)\n",
    "\n",
    "dt2 = DecisionTreeClassifier()\n",
    "dt2.fit(X2_train, y2_train)\n",
    "\n",
    "dt3 = DecisionTreeClassifier()\n",
    "dt3.fit(X3_train, y3_train)\n",
    "\n",
    "dt4 = DecisionTreeClassifier()\n",
    "dt4.fit(X4_train, y4_train)\n",
    "\n",
    "\n",
    "\n"
   ]
  },
  {
   "cell_type": "code",
   "execution_count": 98,
   "id": "4bf8c00a",
   "metadata": {},
   "outputs": [],
   "source": [
    "# Make predictions on the testing sets and calculate the metrics\n",
    "y1_pred = dt1.predict(X1_test)\n",
    "acc1 = accuracy_score(y1_test, y1_pred)\n",
    "prec1 = precision_score(y1_test, y1_pred)\n",
    "rec1 = recall_score(y1_test, y1_pred)\n",
    "f1_1 = f1_score(y1_test, y1_pred)\n",
    "\n",
    "y2_pred = dt2.predict(X2_test)\n",
    "acc2 = accuracy_score(y2_test, y2_pred)\n",
    "prec2 = precision_score(y2_test, y2_pred)\n",
    "rec2 = recall_score(y2_test, y2_pred)\n",
    "f1_2 = f1_score(y2_test, y2_pred)\n",
    "\n",
    "y3_pred = dt3.predict(X3_test)\n",
    "acc3 = accuracy_score(y3_test, y3_pred)\n",
    "prec3 = precision_score(y3_test, y3_pred)\n",
    "rec3 = recall_score(y3_test, y3_pred)\n",
    "f1_3 = f1_score(y3_test, y3_pred)\n",
    "\n",
    "y4_pred = dt4.predict(X4_test)\n",
    "acc4 = accuracy_score(y4_test, y4_pred)\n",
    "prec4 = precision_score(y4_test, y4_pred)\n",
    "rec4 = recall_score(y4_test, y4_pred)\n",
    "f1_4 = f1_score(y4_test, y4_pred)\n",
    "\n"
   ]
  },
  {
   "cell_type": "code",
   "execution_count": 99,
   "id": "b7a2edf2",
   "metadata": {},
   "outputs": [
    {
     "name": "stdout",
     "output_type": "stream",
     "text": [
      "Dataset 1:\n",
      "Accuracy: 0.7213114754098361\n",
      "Precision: 0.8\n",
      "Recall: 0.625\n",
      "F1-score: 0.7017543859649122\n",
      "...........................\n",
      "Dataset 2:\n",
      "Accuracy: 0.7377049180327869\n",
      "Precision: 0.6756756756756757\n",
      "Recall: 0.8620689655172413\n",
      "F1-score: 0.7575757575757576\n",
      "............................\n",
      "Dataset 3:\n",
      "Accuracy: 0.8032786885245902\n",
      "Precision: 0.8333333333333334\n",
      "Recall: 0.78125\n",
      "F1-score: 0.8064516129032259\n",
      "............................\n",
      "Dataset 4:\n",
      "Accuracy: 0.8206521739130435\n",
      "Precision: 0.8627450980392157\n",
      "Recall: 0.822429906542056\n",
      "F1-score: 0.8421052631578947\n"
     ]
    }
   ],
   "source": [
    "# Print the results\n",
    "print('Dataset 1:')\n",
    "print('Accuracy:', acc1)\n",
    "print('Precision:', prec1)\n",
    "print('Recall:', rec1)\n",
    "print('F1-score:', f1_1)\n",
    "print(\"...........................\")\n",
    "\n",
    "print('Dataset 2:')\n",
    "print('Accuracy:', acc2)\n",
    "print('Precision:', prec2)\n",
    "print('Recall:', rec2)\n",
    "print('F1-score:', f1_2)\n",
    "print(\"............................\")\n",
    "\n",
    "print('Dataset 3:')\n",
    "print('Accuracy:', acc3)\n",
    "print('Precision:', prec3)\n",
    "print('Recall:', rec3)\n",
    "print('F1-score:', f1_3)\n",
    "print(\"............................\")\n",
    "\n",
    "\n",
    "print('Dataset 4:')\n",
    "print('Accuracy:', acc4)\n",
    "print('Precision:', prec4)\n",
    "print('Recall:', rec4)\n",
    "print('F1-score:', f1_4)\n",
    "\n",
    "\n",
    "\n",
    "\n"
   ]
  },
  {
   "cell_type": "code",
   "execution_count": 38,
   "id": "63a50b7d",
   "metadata": {},
   "outputs": [],
   "source": [
    "import matplotlib.pyplot as plt\n",
    "import numpy as np\n",
    "import seaborn as sns"
   ]
  },
  {
   "cell_type": "code",
   "execution_count": 42,
   "id": "eea4fa64",
   "metadata": {},
   "outputs": [],
   "source": [
    "datasets = ['Dataset 1', 'Dataset 2', 'Dataset 3', 'Dataset4']\n",
    "accuracies = [0.75, 0.73, 0.73, 0.82]\n"
   ]
  },
  {
   "cell_type": "code",
   "execution_count": 43,
   "id": "f02e46e6",
   "metadata": {},
   "outputs": [
    {
     "data": {
      "image/png": "[encoded data removed]",
      "text/plain": [
       "<Figure size 432x288 with 1 Axes>"
      ]
     },
     "metadata": {
      "needs_background": "light"
     },
     "output_type": "display_data"
    }
   ],
   "source": [
    "plt.bar(datasets, accuracies)\n",
    "plt.xlabel('Datasets')\n",
    "plt.ylabel('Accuracies')\n",
    "plt.title('Accuracy of decision tree using Different Datasets')\n",
    "plt.ylim([0, 1])  # Set the y-axis limits\n",
    "plt.show()"
   ]
  },
  {
   "cell_type": "code",
   "execution_count": 132,
   "id": "c6d11077",
   "metadata": {},
   "outputs": [
    {
     "data": {
      "image/png": "[encoded data removed]",
      "text/plain": [
       "<Figure size 432x288 with 1 Axes>"
      ]
     },
     "metadata": {
      "needs_background": "light"
     },
     "output_type": "display_data"
    }
   ],
   "source": [
    "precision =[0.84,0.65,0.87, 0.86]\n",
    "plt.bar(datasets, precision)\n",
    "plt.xlabel('precision')\n",
    "plt.ylabel('precision')\n",
    "plt.title('precision of decision tree using Different Datasets')\n",
    "plt.ylim([0, 1])  # Set the y-axis limits\n",
    "plt.show()"
   ]
  },
  {
   "cell_type": "code",
   "execution_count": 131,
   "id": "2250e420",
   "metadata": {},
   "outputs": [
    {
     "data": {
      "image/png": "[encoded data removed]",
      "text/plain": [
       "<Figure size 432x288 with 1 Axes>"
      ]
     },
     "metadata": {
      "needs_background": "light"
     },
     "output_type": "display_data"
    }
   ],
   "source": [
    "recall =[0.68,0.86,0.65, 0.82]\n",
    "plt.bar(datasets, recall)\n",
    "plt.xlabel('Datasets')\n",
    "plt.ylabel('recall')\n",
    "plt.title('recall of decision tree using Different Datasets')\n",
    "plt.ylim([0, 1])  # Set the y-axis limits\n",
    "plt.show()"
   ]
  },
  {
   "cell_type": "code",
   "execution_count": 135,
   "id": "b7a5c90d",
   "metadata": {},
   "outputs": [
    {
     "data": {
      "image/png": "[encoded data removed]",
      "text/plain": [
       "<Figure size 432x288 with 1 Axes>"
      ]
     },
     "metadata": {
      "needs_background": "light"
     },
     "output_type": "display_data"
    }
   ],
   "source": [
    "f1_score =[0.70,0.75,0.80, 0.84]\n",
    "plt.bar(datasets, f1_score)\n",
    "plt.xlabel('Datasets')\n",
    "plt.ylabel('f1_score')\n",
    "plt.title('f1_score of decision tree using Different Datasets')\n",
    "plt.ylim([0, 1])  # Set the y-axis limits\n",
    "plt.show()"
   ]
  },
  {
   "cell_type": "code",
   "execution_count": 144,
   "id": "5cba9aea",
   "metadata": {},
   "outputs": [
    {
     "data": {
      "image/png": "[encoded data removed]",
      "text/plain": [
       "<Figure size 720x360 with 1 Axes>"
      ]
     },
     "metadata": {
      "needs_background": "light"
     },
     "output_type": "display_data"
    }
   ],
   "source": [
    "# Create lists of scores for plotting\n",
    "datasets = ['Dataset1', 'Dataset2', 'Dataset3','Dataset4']\n",
    "accuracies = [accuracy1, accuracy2, accuracy3, accuracy4]\n",
    "precisions = [precision1, precision2, precision3, precision4]\n",
    "recalls = [recall1, recall2, recall3, recall4]\n",
    "f1_score =[f1_score1,f1_score2,f1_score3,f1_score4]\n",
    "\n",
    "# Plot the scores\n",
    "plt.figure(figsize=(10, 5))\n",
    "plt.plot(datasets, accuracies, label='Accuracy')\n",
    "plt.plot(datasets, precisions, label='Precision')\n",
    "plt.plot(datasets, recalls, label='Recall')\n",
    "plt.plot(datasets,f1_score,label='f1_score')\n",
    "plt.xlabel('Datasets')\n",
    "plt.ylabel('Score')\n",
    "plt.title('Decision tree Scores for Heart Disease Prediction')\n",
    "plt.legend()\n",
    "plt.show()"
   ]
  },
  {
   "cell_type": "markdown",
   "id": "f131cfd7",
   "metadata": {},
   "source": [
    "# Random Forest"
   ]
  },
  {
   "cell_type": "code",
   "execution_count": 145,
   "id": "494950c4",
   "metadata": {},
   "outputs": [],
   "source": [
    "import pandas as pd\n",
    "from sklearn.ensemble import RandomForestClassifier\n",
    "from sklearn.model_selection import train_test_split\n",
    "from sklearn.metrics import accuracy_score, precision_score, recall_score,f1_score\n"
   ]
  },
  {
   "cell_type": "code",
   "execution_count": 146,
   "id": "abd71b45",
   "metadata": {},
   "outputs": [],
   "source": [
    "# Split the datasets into training and testing sets\n",
    "X1_train, X1_test, y1_train, y1_test = train_test_split(dataset1.drop('target', axis=1), dataset1['target'], test_size=0.2, random_state=42)\n",
    "X2_train, X2_test, y2_train, y2_test = train_test_split(dataset2.drop('target', axis=1), dataset2['target'], test_size=0.2, random_state=42)\n",
    "X3_train, X3_test, y3_train, y3_test = train_test_split(dataset3.drop('target', axis=1), dataset3['target'], test_size=0.2, random_state=42)\n",
    "X4_train, X4_test, y4_train, y4_test = train_test_split(dataset4.drop('target', axis=1), dataset4['target'], test_size=0.2, random_state=42)\n"
   ]
  },
  {
   "cell_type": "code",
   "execution_count": 147,
   "id": "8f9559b8",
   "metadata": {},
   "outputs": [
    {
     "data": {
      "text/plain": [
       "RandomForestClassifier()"
      ]
     },
     "execution_count": 147,
     "metadata": {},
     "output_type": "execute_result"
    }
   ],
   "source": [
    "# Create decision tree classifiers and fit them on the training sets\n",
    "rf1 = RandomForestClassifier()\n",
    "rf1.fit(X1_train, y1_train)\n",
    "\n",
    "rf2 = RandomForestClassifier()\n",
    "rf2.fit(X2_train, y2_train)\n",
    "\n",
    "rf3 = RandomForestClassifier()\n",
    "rf3.fit(X3_train, y3_train)\n",
    "\n",
    "rf4 = RandomForestClassifier()\n",
    "rf4.fit(X4_train, y4_train)\n",
    "\n"
   ]
  },
  {
   "cell_type": "code",
   "execution_count": 148,
   "id": "42a97fa8",
   "metadata": {},
   "outputs": [],
   "source": [
    "# Make predictions on the testing sets and calculate the metrics\n",
    "y1_pred = dt1.predict(X1_test)\n",
    "acc1 = accuracy_score(y1_test, y1_pred)\n",
    "prec1 = precision_score(y1_test, y1_pred)\n",
    "rec1 = recall_score(y1_test, y1_pred)\n",
    "f1_1 = f1_score(y1_test, y1_pred)\n",
    "\n",
    "y2_pred = dt2.predict(X2_test)\n",
    "acc2 = accuracy_score(y2_test, y2_pred)\n",
    "prec2 = precision_score(y2_test, y2_pred)\n",
    "rec2 = recall_score(y2_test, y2_pred)\n",
    "f1_2 = f1_score(y2_test, y2_pred)\n",
    "\n",
    "y3_pred = dt3.predict(X3_test)\n",
    "acc3 = accuracy_score(y3_test, y3_pred)\n",
    "prec3 = precision_score(y3_test, y3_pred)\n",
    "rec3 = recall_score(y3_test, y3_pred)\n",
    "f1_3 = f1_score(y3_test, y3_pred)\n",
    "\n",
    "y4_pred = dt4.predict(X4_test)\n",
    "acc4 = accuracy_score(y4_test, y4_pred)\n",
    "prec4 = precision_score(y4_test, y4_pred)\n",
    "rec4 = recall_score(y4_test, y4_pred)\n",
    "f1_4 = f1_score(y4_test, y4_pred)"
   ]
  },
  {
   "cell_type": "code",
   "execution_count": 143,
   "id": "753ce2ec",
   "metadata": {},
   "outputs": [
    {
     "name": "stdout",
     "output_type": "stream",
     "text": [
      "Dataset 1:\n",
      "Accuracy: 0.7213114754098361\n",
      "Precision: 0.8\n",
      "Recall: 0.625\n",
      "F1-score: 0.7017543859649122\n",
      "...........................\n",
      "Dataset 2:\n",
      "Accuracy: 0.7377049180327869\n",
      "Precision: 0.6756756756756757\n",
      "Recall: 0.8620689655172413\n",
      "F1-score: 0.7575757575757576\n",
      "............................\n",
      "Dataset 3:\n",
      "Accuracy: 0.8032786885245902\n",
      "Precision: 0.8333333333333334\n",
      "Recall: 0.78125\n",
      "F1-score: 0.8064516129032259\n",
      "............................\n",
      "Dataset 4:\n",
      "Accuracy: 0.8206521739130435\n",
      "Precision: 0.8627450980392157\n",
      "Recall: 0.822429906542056\n",
      "F1-score: 0.8421052631578947\n"
     ]
    }
   ],
   "source": [
    "# Print the results\n",
    "print('Dataset 1:')\n",
    "print('Accuracy:', acc1)\n",
    "print('Precision:', prec1)\n",
    "print('Recall:', rec1)\n",
    "print('F1-score:', f1_1)\n",
    "print(\"...........................\")\n",
    "\n",
    "print('Dataset 2:')\n",
    "print('Accuracy:', acc2)\n",
    "print('Precision:', prec2)\n",
    "print('Recall:', rec2)\n",
    "print('F1-score:', f1_2)\n",
    "print(\"............................\")\n",
    "\n",
    "print('Dataset 3:')\n",
    "print('Accuracy:', acc3)\n",
    "print('Precision:', prec3)\n",
    "print('Recall:', rec3)\n",
    "print('F1-score:', f1_3)\n",
    "print(\"............................\")\n",
    "\n",
    "\n",
    "print('Dataset 4:')\n",
    "print('Accuracy:', acc4)\n",
    "print('Precision:', prec4)\n",
    "print('Recall:', rec4)\n",
    "print('F1-score:', f1_4)"
   ]
  },
  {
   "cell_type": "code",
   "execution_count": null,
   "id": "9b83f2a9",
   "metadata": {},
   "outputs": [],
   "source": [
    "import matplotlib.pyplot as plt\n",
    "import numpy as np"
   ]
  },
  {
   "cell_type": "code",
   "execution_count": 149,
   "id": "413f0a63",
   "metadata": {},
   "outputs": [],
   "source": [
    "datasets = ['Dataset 1', 'Dataset 2', 'Dataset 3','Dataset4']\n",
    "accuracies = [0.72, 0.73, 0.80, 0.82]"
   ]
  },
  {
   "cell_type": "code",
   "execution_count": 150,
   "id": "c2b2b4c3",
   "metadata": {},
   "outputs": [
    {
     "data": {
      "image/png": "[encoded data removed]",
      "text/plain": [
       "<Figure size 432x288 with 1 Axes>"
      ]
     },
     "metadata": {
      "needs_background": "light"
     },
     "output_type": "display_data"
    }
   ],
   "source": [
    "\n",
    "plt.bar(datasets, accuracies)\n",
    "plt.xlabel('Datasets')\n",
    "plt.ylabel('accuracies')\n",
    "plt.title('accuracies of random forest using Different Datasets')\n",
    "plt.ylim([0, 1])  # Set the y-axis limits\n",
    "plt.show()"
   ]
  },
  {
   "cell_type": "code",
   "execution_count": 151,
   "id": "5f88399e",
   "metadata": {},
   "outputs": [],
   "source": [
    "precision = [0.84, 1.0, 0.83 , 0.86]"
   ]
  },
  {
   "cell_type": "code",
   "execution_count": 152,
   "id": "fadcadf9",
   "metadata": {},
   "outputs": [
    {
     "data": {
      "image/png": "[encoded data removed]",
      "text/plain": [
       "<Figure size 432x288 with 1 Axes>"
      ]
     },
     "metadata": {
      "needs_background": "light"
     },
     "output_type": "display_data"
    }
   ],
   "source": [
    "plt.bar(datasets, precision)\n",
    "plt.xlabel('Datasets')\n",
    "plt.ylabel('precision')\n",
    "plt.title('precision of random forest using Different Datasets')\n",
    "plt.ylim([0, 1])  # Set the y-axis limits\n",
    "plt.show()"
   ]
  },
  {
   "cell_type": "code",
   "execution_count": 153,
   "id": "4f129990",
   "metadata": {},
   "outputs": [
    {
     "data": {
      "image/png": "[encoded data removed]",
      "text/plain": [
       "<Figure size 432x288 with 1 Axes>"
      ]
     },
     "metadata": {
      "needs_background": "light"
     },
     "output_type": "display_data"
    }
   ],
   "source": [
    "recall = [0.87, 0.97, 0.81,0.82]\n",
    "plt.bar(datasets, recall)\n",
    "plt.xlabel('Datasets')\n",
    "plt.ylabel('recall')\n",
    "plt.title('recall of random forest using Different Datasets')\n",
    "plt.ylim([0, 1])  # Set the y-axis limits\n",
    "plt.show()"
   ]
  },
  {
   "cell_type": "code",
   "execution_count": null,
   "id": "835ef372",
   "metadata": {},
   "outputs": [],
   "source": [
    "f1_score = [0.87, 0.97, 0.81,0.82]\n",
    "plt.bar(datasets, f1_score)\n",
    "plt.xlabel('Datasets')\n",
    "plt.ylabel('f1_score')\n",
    "plt.title('f1_score of random forest using Different Datasets')\n",
    "plt.ylim([0, 1])  # Set the y-axis limits\n",
    "plt.show()"
   ]
  },
  {
   "cell_type": "code",
   "execution_count": 154,
   "id": "08723687",
   "metadata": {},
   "outputs": [
    {
     "data": {
      "image/png": "[encoded data removed]",
      "text/plain": [
       "<Figure size 720x360 with 1 Axes>"
      ]
     },
     "metadata": {
      "needs_background": "light"
     },
     "output_type": "display_data"
    }
   ],
   "source": [
    "# Create lists of scores for plotting\n",
    "datasets = ['Dataset1', 'Dataset2', 'Dataset3', 'Dataset4']\n",
    "accuracies = [accuracy1, accuracy2, accuracy3,accuracy4]\n",
    "precisions = [precision1, precision2, precision3,precision4]\n",
    "recalls = [recall1, recall2, recall3,recall4]\n",
    "f1_score =[f1_score1,f1_score2,f1_score3,f1_score4]\n",
    "\n",
    "# Plot the scores\n",
    "plt.figure(figsize=(10, 5))\n",
    "plt.plot(datasets, accuracies, label='Accuracy')\n",
    "plt.plot(datasets, precisions, label='Precision')\n",
    "plt.plot(datasets, recalls, label='Recall')\n",
    "plt.plot(datasets,f1_score,label='f1_score')\n",
    "plt.xlabel('Datasets')\n",
    "plt.ylabel('Score')\n",
    "plt.title('Random forest Scores for Heart Disease Prediction')\n",
    "plt.legend()\n",
    "plt.show()"
   ]
  },
  {
   "cell_type": "markdown",
   "id": "f695ff3b",
   "metadata": {},
   "source": [
    "# SVM"
   ]
  },
  {
   "cell_type": "code",
   "execution_count": 155,
   "id": "007cf383",
   "metadata": {},
   "outputs": [
    {
     "name": "stdout",
     "output_type": "stream",
     "text": [
      "SVM1 Accuracy: 0.9836065573770492\n",
      "SVM1 Precision: 0.96\n",
      "SVM1 Recall: 1.0\n",
      "SVM1 f1_score: 0.9795918367346939\n",
      "...................................................\n",
      "SVM2 Accuracy: 0.8852459016393442\n",
      "SVM2 Precision: 0.7931034482758621\n",
      "SVM2 Recall: 0.9583333333333334\n",
      "SVM2 f1_score: 0.8679245283018867\n",
      "...................................................\n",
      "SVM3 Accuracy: 0.9180327868852459\n",
      "SVM3 Precision: 0.8275862068965517\n",
      "SVM3 Recall: 1.0\n",
      "SVM3 f1_score: 0.9056603773584906\n",
      "...................................................\n",
      "SVM4 Accuracy: 0.9180327868852459\n",
      "SVM4 Precision: 0.8275862068965517\n",
      "SVM4 Recall: 1.0\n",
      "SVM4 f1_score: 0.9056603773584906\n"
     ]
    }
   ],
   "source": [
    "import pandas as pd\n",
    "from sklearn.model_selection import train_test_split\n",
    "from sklearn.svm import SVC\n",
    "from sklearn.metrics import accuracy_score, precision_score, recall_score,f1_score\n",
    "\n",
    "\n",
    "\n",
    "# Split into training and testing sets\n",
    "X_train, X_test, y_train, y_test = train_test_split(X1, y1, test_size=0.2, random_state=42)\n",
    "\n",
    "# Train SVM classifiers on each dataset\n",
    "svm1 = SVC(kernel='linear')\n",
    "svm1.fit(X_train, y_train)\n",
    "\n",
    "svm2 = SVC(kernel='poly', degree=3)\n",
    "svm2.fit(X_train, y_train)\n",
    "\n",
    "svm3 = SVC(kernel='rbf')\n",
    "svm3.fit(X_train, y_train)\n",
    "\n",
    "svm4 = SVC(kernel='rbf')\n",
    "svm4.fit(X_train, y_train)\n",
    "\n",
    "y_pred1 = svm1.predict(X_test)\n",
    "\n",
    "\n",
    "y_pred2 = svm2.predict(X_test)\n",
    "\n",
    "\n",
    "y_pred3 = svm3.predict(X_test)\n",
    "\n",
    "\n",
    "y_pred4 = svm4.predict(X_test)\n",
    "\n",
    "\n",
    "# Evaluate performance using accuracy, precision, and recall\n",
    "print(\"SVM1 Accuracy:\", accuracy_score(y_test, y_pred1))\n",
    "print(\"SVM1 Precision:\", precision_score(y_test, y_pred1))\n",
    "print(\"SVM1 Recall:\", recall_score(y_test, y_pred1))\n",
    "print(\"SVM1 f1_score:\", f1_score(y_test, y_pred1))\n",
    "print(\"...................................................\")\n",
    "\n",
    "print(\"SVM2 Accuracy:\", accuracy_score(y_test, y_pred2))\n",
    "print(\"SVM2 Precision:\", precision_score(y_test, y_pred2))\n",
    "print(\"SVM2 Recall:\", recall_score(y_test, y_pred2))\n",
    "print(\"SVM2 f1_score:\", f1_score(y_test, y_pred2))\n",
    "print(\"...................................................\")\n",
    "\n",
    "print(\"SVM3 Accuracy:\", accuracy_score(y_test, y_pred3))\n",
    "print(\"SVM3 Precision:\", precision_score(y_test, y_pred3))\n",
    "print(\"SVM3 Recall:\", recall_score(y_test, y_pred3))\n",
    "print(\"SVM3 f1_score:\", f1_score(y_test, y_pred3))\n",
    "print(\"...................................................\")\n",
    "\n",
    "print(\"SVM4 Accuracy:\", accuracy_score(y_test, y_pred4))\n",
    "print(\"SVM4 Precision:\", precision_score(y_test, y_pred4))\n",
    "print(\"SVM4 Recall:\", recall_score(y_test, y_pred4))\n",
    "print(\"SVM4 f1_score:\", f1_score(y_test, y_pred4))\n",
    "\n"
   ]
  },
  {
   "cell_type": "code",
   "execution_count": 156,
   "id": "c160df31",
   "metadata": {},
   "outputs": [],
   "source": [
    "import matplotlib.pyplot as plt\n",
    "import numpy as np"
   ]
  },
  {
   "cell_type": "code",
   "execution_count": 157,
   "id": "1115e6b7",
   "metadata": {},
   "outputs": [
    {
     "data": {
      "image/png": "[encoded data removed]",
      "text/plain": [
       "<Figure size 432x288 with 1 Axes>"
      ]
     },
     "metadata": {
      "needs_background": "light"
     },
     "output_type": "display_data"
    }
   ],
   "source": [
    "accuracies = [0.86, 0.77, 0.70,0.91]\n",
    "plt.bar(datasets, accuracies)\n",
    "plt.xlabel('Datasets')\n",
    "plt.ylabel('accuracies')\n",
    "plt.title('accuracies of svm  using Different Datasets')\n",
    "plt.ylim([0, 1])  # Set the y-axis limits\n",
    "plt.show()"
   ]
  },
  {
   "cell_type": "code",
   "execution_count": 158,
   "id": "f2e45f16",
   "metadata": {},
   "outputs": [
    {
     "data": {
      "image/png": "[encoded data removed]",
      "text/plain": [
       "<Figure size 432x288 with 1 Axes>"
      ]
     },
     "metadata": {
      "needs_background": "light"
     },
     "output_type": "display_data"
    }
   ],
   "source": [
    "precision = [0.87, 0.75, 0.66,0.82]\n",
    "plt.bar(datasets, precision)\n",
    "plt.xlabel('Datasets')\n",
    "plt.ylabel('precision')\n",
    "plt.title('precision of svm using Different Datasets')\n",
    "plt.ylim([0, 1])  # Set the y-axis limits\n",
    "plt.show()"
   ]
  },
  {
   "cell_type": "code",
   "execution_count": 159,
   "id": "54dcb370",
   "metadata": {},
   "outputs": [
    {
     "data": {
      "image/png": "[encoded data removed]",
      "text/plain": [
       "<Figure size 432x288 with 1 Axes>"
      ]
     },
     "metadata": {
      "needs_background": "light"
     },
     "output_type": "display_data"
    }
   ],
   "source": [
    "recall = [0.87, 0.84, 0.87,1.0]\n",
    "plt.bar(datasets, recall)\n",
    "plt.xlabel('Datasets')\n",
    "plt.ylabel('recall')\n",
    "plt.title('recall of svm using Different Datasets')\n",
    "plt.ylim([0, 1])  # Set the y-axis limits\n",
    "plt.show()"
   ]
  },
  {
   "cell_type": "code",
   "execution_count": 160,
   "id": "8fe67f3e",
   "metadata": {},
   "outputs": [
    {
     "data": {
      "image/png": "[encoded data removed]",
      "text/plain": [
       "<Figure size 432x288 with 1 Axes>"
      ]
     },
     "metadata": {
      "needs_background": "light"
     },
     "output_type": "display_data"
    }
   ],
   "source": [
    "f1_score = [0.87, 0.84, 0.87,1.0]\n",
    "plt.bar(datasets, f1_score)\n",
    "plt.xlabel('Datasets')\n",
    "plt.ylabel('f1_score')\n",
    "plt.title('f1_score of svm using Different Datasets')\n",
    "plt.ylim([0, 1])  # Set the y-axis limits\n",
    "plt.show()"
   ]
  },
  {
   "cell_type": "code",
   "execution_count": 161,
   "id": "084b34f9",
   "metadata": {},
   "outputs": [
    {
     "data": {
      "image/png": "[encoded data removed]",
      "text/plain": [
       "<Figure size 720x360 with 1 Axes>"
      ]
     },
     "metadata": {
      "needs_background": "light"
     },
     "output_type": "display_data"
    }
   ],
   "source": [
    "# Create lists of scores for plotting\n",
    "datasets = ['Dataset1', 'Dataset2', 'Dataset3','Dataset4']\n",
    "accuracies = [accuracy1, accuracy2, accuracy3,accuracy4]\n",
    "precisions = [precision1, precision2, precision3,precision4]\n",
    "recalls = [recall1, recall2, recall3,recall4]\n",
    "f1_score =[f1_score1,f1_score2,f1_score3,f1_score4]\n",
    "\n",
    "# Plot the scores\n",
    "plt.figure(figsize=(10, 5))\n",
    "plt.plot(datasets, accuracies, label='Accuracy')\n",
    "plt.plot(datasets, precisions, label='Precision')\n",
    "plt.plot(datasets, recalls, label='Recall')\n",
    "plt.plot(datasets,f1_score,label='f1_score')\n",
    "plt.xlabel('Datasets')\n",
    "plt.ylabel('Score')\n",
    "plt.title('SVM Scores for Heart Disease Prediction')\n",
    "plt.legend()\n",
    "plt.show()"
   ]
  },
  {
   "cell_type": "code",
   "execution_count": 170,
   "id": "d51c95c4",
   "metadata": {},
   "outputs": [
    {
     "data": {
      "image/png": "[encoded data removed]",
      "text/plain": [
       "<Figure size 1872x432 with 4 Axes>"
      ]
     },
     "metadata": {
      "needs_background": "light"
     },
     "output_type": "display_data"
    }
   ],
   "source": [
    "import pandas as pd\n",
    "import matplotlib.pyplot as plt\n",
    "\n",
    "# Dataset 1\n",
    "df1 =  pd.read_csv('dataset.csv')  \n",
    "correlation1 = df1.corr()['target'].drop('target')  # Calculate correlation with the target and exclude target itself\n",
    "\n",
    "# Dataset 2\n",
    "df2 = pd.read_csv('heart (1).csv') \n",
    "correlation2 = df2.corr()['target'].drop('target')  # Calculate correlation with the target and exclude target itself\n",
    "\n",
    "# Dataset 3\n",
    "df3 = pd.read_csv('heart_data.csv')  \n",
    "correlation3 = df3.corr()['target'].drop('target')  # Calculate correlation with the target and exclude target itself\n",
    "\n",
    "df4= pd.read_csv('heart (2).csv')\n",
    "correlation4 = df4.corr()['target'].drop('target') \n",
    "\n",
    "# Plotting\n",
    "fig, axes = plt.subplots(nrows=1, ncols=4, figsize=(26, 6))  # Create subplots for each dataset\n",
    "\n",
    "# Dataset 1\n",
    "axes[0].bar(correlation1.index, correlation1.values)  # Create a bar plot\n",
    "axes[0].set_title('Dataset 1')\n",
    "axes[0].set_xlabel('Variables')\n",
    "axes[0].set_ylabel('Correlation')\n",
    "\n",
    "# Dataset 2\n",
    "axes[1].bar(correlation2.index, correlation2.values)  # Create a bar plot\n",
    "axes[1].set_title('Dataset 2')\n",
    "axes[1].set_xlabel('Variables')\n",
    "axes[1].set_ylabel('Correlation')\n",
    "\n",
    "# Dataset 3\n",
    "axes[2].bar(correlation3.index, correlation3.values)  # Create a bar plot\n",
    "axes[2].set_title('Dataset 3')\n",
    "axes[2].set_xlabel('Variables')\n",
    "axes[2].set_ylabel('Correlation')\n",
    "\n",
    "# Dataset 4\n",
    "axes[3].bar(correlation4.index, correlation4.values)  # Create a bar plot\n",
    "axes[3].set_title('Dataset 4')\n",
    "axes[3].set_xlabel('Variables')\n",
    "axes[3].set_ylabel('Correlation')\n",
    "\n",
    "plt.tight_layout()  # Adjust spacing between subplots\n",
    "plt.show()  # Display the plots\n"
   ]
  }
 ],
 "metadata": {
  "kernelspec": {
   "display_name": "Python 3",
   "language": "python",
   "name": "python3"
  },
  "language_info": {
   "codemirror_mode": {
    "name": "ipython",
    "version": 3
   },
   "file_extension": ".py",
   "mimetype": "text/x-python",
   "name": "python",
   "nbconvert_exporter": "python",
   "pygments_lexer": "ipython3",
   "version": "3.8.8"
  }
 },
 "nbformat": 4,
 "nbformat_minor": 5
}
